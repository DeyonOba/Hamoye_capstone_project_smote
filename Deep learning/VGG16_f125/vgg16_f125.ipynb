{
 "cells": [
  {
   "cell_type": "code",
   "execution_count": 1,
   "id": "0a33579c",
   "metadata": {
    "execution": {
     "iopub.execute_input": "2022-04-01T09:08:15.891654Z",
     "iopub.status.busy": "2022-04-01T09:08:15.890106Z",
     "iopub.status.idle": "2022-04-01T09:08:30.300927Z",
     "shell.execute_reply": "2022-04-01T09:08:30.301376Z",
     "shell.execute_reply.started": "2022-03-31T15:34:28.130998Z"
    },
    "papermill": {
     "duration": 14.435615,
     "end_time": "2022-04-01T09:08:30.301658",
     "exception": false,
     "start_time": "2022-04-01T09:08:15.866043",
     "status": "completed"
    },
    "tags": []
   },
   "outputs": [
    {
     "name": "stdout",
     "output_type": "stream",
     "text": [
      "Cloning into 'Hamoye_capstone_project_smote'...\r\n",
      "remote: Enumerating objects: 10810, done.\u001b[K\r\n",
      "remote: Counting objects: 100% (42/42), done.\u001b[K\r\n",
      "remote: Compressing objects: 100% (34/34), done.\u001b[K\r\n",
      "remote: Total 10810 (delta 10), reused 14 (delta 3), pack-reused 10768\u001b[K\r\n",
      "Receiving objects: 100% (10810/10810), 358.64 MiB | 37.53 MiB/s, done.\r\n",
      "Resolving deltas: 100% (15/15), done.\r\n",
      "Updating files: 100% (10807/10807), done.\r\n"
     ]
    }
   ],
   "source": [
    "!git clone https://github.com/toby766/Hamoye_capstone_project_smote.git"
   ]
  },
  {
   "cell_type": "code",
   "execution_count": 2,
   "id": "a8466036",
   "metadata": {
    "execution": {
     "iopub.execute_input": "2022-04-01T09:08:30.422444Z",
     "iopub.status.busy": "2022-04-01T09:08:30.421836Z",
     "iopub.status.idle": "2022-04-01T09:08:35.769587Z",
     "shell.execute_reply": "2022-04-01T09:08:35.768701Z",
     "shell.execute_reply.started": "2022-03-31T15:34:46.95919Z"
    },
    "executionInfo": {
     "elapsed": 4217,
     "status": "ok",
     "timestamp": 1648640298026,
     "user": {
      "displayName": "Tobi",
      "userId": "06343529474612864282"
     },
     "user_tz": -60
    },
    "id": "l-PTM6beynBk",
    "papermill": {
     "duration": 5.411135,
     "end_time": "2022-04-01T09:08:35.769725",
     "exception": false,
     "start_time": "2022-04-01T09:08:30.358590",
     "status": "completed"
    },
    "tags": []
   },
   "outputs": [],
   "source": [
    "from tensorflow.keras.layers import Input, Lambda, Dense, Flatten\n",
    "from tensorflow.keras.models import Model\n",
    "from tensorflow.keras.applications.vgg16 import VGG16\n",
    "from tensorflow.keras.applications.vgg19 import VGG19\n",
    "from tensorflow.keras.preprocessing import image\n",
    "from tensorflow.keras.preprocessing.image import ImageDataGenerator,load_img\n",
    "from tensorflow.keras.models import Sequential\n",
    "import numpy as np\n",
    "from glob import glob\n"
   ]
  },
  {
   "cell_type": "code",
   "execution_count": 3,
   "id": "f3ec8909",
   "metadata": {
    "execution": {
     "iopub.execute_input": "2022-04-01T09:08:35.890813Z",
     "iopub.status.busy": "2022-04-01T09:08:35.889973Z",
     "iopub.status.idle": "2022-04-01T09:08:35.891814Z",
     "shell.execute_reply": "2022-04-01T09:08:35.892236Z",
     "shell.execute_reply.started": "2022-03-31T15:34:53.48858Z"
    },
    "executionInfo": {
     "elapsed": 10,
     "status": "ok",
     "timestamp": 1648640298028,
     "user": {
      "displayName": "Tobi",
      "userId": "06343529474612864282"
     },
     "user_tz": -60
    },
    "id": "Zug_ylZxyjQV",
    "papermill": {
     "duration": 0.06297,
     "end_time": "2022-04-01T09:08:35.892366",
     "exception": false,
     "start_time": "2022-04-01T09:08:35.829396",
     "status": "completed"
    },
    "tags": []
   },
   "outputs": [],
   "source": [
    "IMAGE_SIZE = [224, 224]\n",
    "\n",
    "train_path = './Hamoye_capstone_project_smote/Data/train'\n",
    "valid_path = './Hamoye_capstone_project_smote/Data/test'"
   ]
  },
  {
   "cell_type": "code",
   "execution_count": 4,
   "id": "703cba42",
   "metadata": {
    "execution": {
     "iopub.execute_input": "2022-04-01T09:08:36.012044Z",
     "iopub.status.busy": "2022-04-01T09:08:36.011407Z",
     "iopub.status.idle": "2022-04-01T09:08:39.760776Z",
     "shell.execute_reply": "2022-04-01T09:08:39.761927Z",
     "shell.execute_reply.started": "2022-03-31T15:34:53.503723Z"
    },
    "executionInfo": {
     "elapsed": 2837,
     "status": "ok",
     "timestamp": 1648640300857,
     "user": {
      "displayName": "Tobi",
      "userId": "06343529474612864282"
     },
     "user_tz": -60
    },
    "id": "yfJ4kiJNz2Y3",
    "outputId": "928102e0-282d-46e7-b3b7-1e6d9af23377",
    "papermill": {
     "duration": 3.813508,
     "end_time": "2022-04-01T09:08:39.762141",
     "exception": false,
     "start_time": "2022-04-01T09:08:35.948633",
     "status": "completed"
    },
    "tags": []
   },
   "outputs": [
    {
     "name": "stderr",
     "output_type": "stream",
     "text": [
      "2022-04-01 09:08:36.090880: I tensorflow/stream_executor/cuda/cuda_gpu_executor.cc:937] successful NUMA node read from SysFS had negative value (-1), but there must be at least one NUMA node, so returning NUMA node zero\n",
      "2022-04-01 09:08:36.176264: I tensorflow/stream_executor/cuda/cuda_gpu_executor.cc:937] successful NUMA node read from SysFS had negative value (-1), but there must be at least one NUMA node, so returning NUMA node zero\n",
      "2022-04-01 09:08:36.176976: I tensorflow/stream_executor/cuda/cuda_gpu_executor.cc:937] successful NUMA node read from SysFS had negative value (-1), but there must be at least one NUMA node, so returning NUMA node zero\n",
      "2022-04-01 09:08:36.178126: I tensorflow/core/platform/cpu_feature_guard.cc:142] This TensorFlow binary is optimized with oneAPI Deep Neural Network Library (oneDNN) to use the following CPU instructions in performance-critical operations:  AVX2 AVX512F FMA\n",
      "To enable them in other operations, rebuild TensorFlow with the appropriate compiler flags.\n",
      "2022-04-01 09:08:36.178835: I tensorflow/stream_executor/cuda/cuda_gpu_executor.cc:937] successful NUMA node read from SysFS had negative value (-1), but there must be at least one NUMA node, so returning NUMA node zero\n",
      "2022-04-01 09:08:36.179506: I tensorflow/stream_executor/cuda/cuda_gpu_executor.cc:937] successful NUMA node read from SysFS had negative value (-1), but there must be at least one NUMA node, so returning NUMA node zero\n",
      "2022-04-01 09:08:36.180224: I tensorflow/stream_executor/cuda/cuda_gpu_executor.cc:937] successful NUMA node read from SysFS had negative value (-1), but there must be at least one NUMA node, so returning NUMA node zero\n",
      "2022-04-01 09:08:38.046876: I tensorflow/stream_executor/cuda/cuda_gpu_executor.cc:937] successful NUMA node read from SysFS had negative value (-1), but there must be at least one NUMA node, so returning NUMA node zero\n",
      "2022-04-01 09:08:38.047634: I tensorflow/stream_executor/cuda/cuda_gpu_executor.cc:937] successful NUMA node read from SysFS had negative value (-1), but there must be at least one NUMA node, so returning NUMA node zero\n",
      "2022-04-01 09:08:38.048336: I tensorflow/stream_executor/cuda/cuda_gpu_executor.cc:937] successful NUMA node read from SysFS had negative value (-1), but there must be at least one NUMA node, so returning NUMA node zero\n",
      "2022-04-01 09:08:38.048913: I tensorflow/core/common_runtime/gpu/gpu_device.cc:1510] Created device /job:localhost/replica:0/task:0/device:GPU:0 with 15403 MB memory:  -> device: 0, name: Tesla P100-PCIE-16GB, pci bus id: 0000:00:04.0, compute capability: 6.0\n"
     ]
    },
    {
     "name": "stdout",
     "output_type": "stream",
     "text": [
      "Downloading data from https://storage.googleapis.com/tensorflow/keras-applications/vgg16/vgg16_weights_tf_dim_ordering_tf_kernels_notop.h5\n",
      "58892288/58889256 [==============================] - 1s 0us/step\n",
      "58900480/58889256 [==============================] - 1s 0us/step\n"
     ]
    }
   ],
   "source": [
    "vgg16 = VGG16(input_shape=IMAGE_SIZE + [3], weights='imagenet', include_top=False)"
   ]
  },
  {
   "cell_type": "code",
   "execution_count": 5,
   "id": "e0a56226",
   "metadata": {
    "execution": {
     "iopub.execute_input": "2022-04-01T09:08:39.962045Z",
     "iopub.status.busy": "2022-04-01T09:08:39.961202Z",
     "iopub.status.idle": "2022-04-01T09:08:39.962914Z",
     "shell.execute_reply": "2022-04-01T09:08:39.963398Z",
     "shell.execute_reply.started": "2022-03-31T15:34:57.539973Z"
    },
    "executionInfo": {
     "elapsed": 11,
     "status": "ok",
     "timestamp": 1648640300858,
     "user": {
      "displayName": "Tobi",
      "userId": "06343529474612864282"
     },
     "user_tz": -60
    },
    "id": "oHDObVEvz2mt",
    "papermill": {
     "duration": 0.087771,
     "end_time": "2022-04-01T09:08:39.963528",
     "exception": false,
     "start_time": "2022-04-01T09:08:39.875757",
     "status": "completed"
    },
    "tags": []
   },
   "outputs": [],
   "source": [
    "for layer in vgg16.layers:\n",
    "    layer.trainable = False"
   ]
  },
  {
   "cell_type": "code",
   "execution_count": 6,
   "id": "185886af",
   "metadata": {
    "execution": {
     "iopub.execute_input": "2022-04-01T09:08:40.116954Z",
     "iopub.status.busy": "2022-04-01T09:08:40.116173Z",
     "iopub.status.idle": "2022-04-01T09:08:40.118553Z",
     "shell.execute_reply": "2022-04-01T09:08:40.119021Z",
     "shell.execute_reply.started": "2022-03-31T15:34:57.549149Z"
    },
    "executionInfo": {
     "elapsed": 1374,
     "status": "ok",
     "timestamp": 1648640302223,
     "user": {
      "displayName": "Tobi",
      "userId": "06343529474612864282"
     },
     "user_tz": -60
    },
    "id": "dgkZ6B6Fz2rF",
    "papermill": {
     "duration": 0.079698,
     "end_time": "2022-04-01T09:08:40.119185",
     "exception": false,
     "start_time": "2022-04-01T09:08:40.039487",
     "status": "completed"
    },
    "tags": []
   },
   "outputs": [],
   "source": [
    "folders = glob('./Hamoye_capstone_project_smote/Data/train/*')"
   ]
  },
  {
   "cell_type": "code",
   "execution_count": 7,
   "id": "90c310eb",
   "metadata": {
    "execution": {
     "iopub.execute_input": "2022-04-01T09:08:40.259246Z",
     "iopub.status.busy": "2022-04-01T09:08:40.258389Z",
     "iopub.status.idle": "2022-04-01T09:08:40.261906Z",
     "shell.execute_reply": "2022-04-01T09:08:40.262367Z",
     "shell.execute_reply.started": "2022-03-31T15:34:57.572859Z"
    },
    "executionInfo": {
     "elapsed": 18,
     "status": "ok",
     "timestamp": 1648640302224,
     "user": {
      "displayName": "Tobi",
      "userId": "06343529474612864282"
     },
     "user_tz": -60
    },
    "id": "pjpVdHIj0ZPQ",
    "outputId": "55191efc-b9b7-4792-cbfe-7a10c5021565",
    "papermill": {
     "duration": 0.073674,
     "end_time": "2022-04-01T09:08:40.262502",
     "exception": false,
     "start_time": "2022-04-01T09:08:40.188828",
     "status": "completed"
    },
    "tags": []
   },
   "outputs": [
    {
     "data": {
      "text/plain": [
       "['./Hamoye_capstone_project_smote/Data/train/Elephant',\n",
       " './Hamoye_capstone_project_smote/Data/train/Rhino',\n",
       " './Hamoye_capstone_project_smote/Data/train/Buffalo',\n",
       " './Hamoye_capstone_project_smote/Data/train/Zebra']"
      ]
     },
     "execution_count": 7,
     "metadata": {},
     "output_type": "execute_result"
    }
   ],
   "source": [
    "folders"
   ]
  },
  {
   "cell_type": "code",
   "execution_count": 8,
   "id": "25a5811b",
   "metadata": {
    "execution": {
     "iopub.execute_input": "2022-04-01T09:08:40.395720Z",
     "iopub.status.busy": "2022-04-01T09:08:40.395130Z",
     "iopub.status.idle": "2022-04-01T09:08:40.401270Z",
     "shell.execute_reply": "2022-04-01T09:08:40.401731Z",
     "shell.execute_reply.started": "2022-03-31T15:34:57.590138Z"
    },
    "executionInfo": {
     "elapsed": 14,
     "status": "ok",
     "timestamp": 1648640302225,
     "user": {
      "displayName": "Tobi",
      "userId": "06343529474612864282"
     },
     "user_tz": -60
    },
    "id": "BEnQ0RFQ0ZTv",
    "papermill": {
     "duration": 0.07527,
     "end_time": "2022-04-01T09:08:40.401886",
     "exception": false,
     "start_time": "2022-04-01T09:08:40.326616",
     "status": "completed"
    },
    "tags": []
   },
   "outputs": [],
   "source": [
    "x = Flatten()(vgg16.output)"
   ]
  },
  {
   "cell_type": "code",
   "execution_count": 9,
   "id": "045c5a6d",
   "metadata": {
    "execution": {
     "iopub.execute_input": "2022-04-01T09:08:40.535482Z",
     "iopub.status.busy": "2022-04-01T09:08:40.534677Z",
     "iopub.status.idle": "2022-04-01T09:08:40.547943Z",
     "shell.execute_reply": "2022-04-01T09:08:40.547018Z",
     "shell.execute_reply.started": "2022-03-31T15:34:57.605949Z"
    },
    "executionInfo": {
     "elapsed": 14,
     "status": "ok",
     "timestamp": 1648640302226,
     "user": {
      "displayName": "Tobi",
      "userId": "06343529474612864282"
     },
     "user_tz": -60
    },
    "id": "CKcIZQqG0ZKn",
    "papermill": {
     "duration": 0.082548,
     "end_time": "2022-04-01T09:08:40.548066",
     "exception": false,
     "start_time": "2022-04-01T09:08:40.465518",
     "status": "completed"
    },
    "tags": []
   },
   "outputs": [],
   "source": [
    "prediction = Dense(len(folders), activation='softmax')(x)\n",
    "\n",
    "# create a model object\n",
    "model = Model(inputs=vgg16.input, outputs=prediction)"
   ]
  },
  {
   "cell_type": "code",
   "execution_count": 10,
   "id": "794f7b29",
   "metadata": {
    "execution": {
     "iopub.execute_input": "2022-04-01T09:08:40.684511Z",
     "iopub.status.busy": "2022-04-01T09:08:40.683692Z",
     "iopub.status.idle": "2022-04-01T09:08:40.689690Z",
     "shell.execute_reply": "2022-04-01T09:08:40.689295Z",
     "shell.execute_reply.started": "2022-03-31T15:34:57.632589Z"
    },
    "executionInfo": {
     "elapsed": 14,
     "status": "ok",
     "timestamp": 1648640302226,
     "user": {
      "displayName": "Tobi",
      "userId": "06343529474612864282"
     },
     "user_tz": -60
    },
    "id": "TiV7S9TM0ZYN",
    "papermill": {
     "duration": 0.078147,
     "end_time": "2022-04-01T09:08:40.689799",
     "exception": false,
     "start_time": "2022-04-01T09:08:40.611652",
     "status": "completed"
    },
    "tags": []
   },
   "outputs": [],
   "source": [
    "model.compile(\n",
    "  loss='categorical_crossentropy',\n",
    "  optimizer='adam',\n",
    "  metrics=['accuracy']\n",
    ")"
   ]
  },
  {
   "cell_type": "code",
   "execution_count": 11,
   "id": "3f4f2b84",
   "metadata": {
    "execution": {
     "iopub.execute_input": "2022-04-01T09:08:40.822952Z",
     "iopub.status.busy": "2022-04-01T09:08:40.822157Z",
     "iopub.status.idle": "2022-04-01T09:08:40.824120Z",
     "shell.execute_reply": "2022-04-01T09:08:40.824516Z",
     "shell.execute_reply.started": "2022-03-31T15:34:57.651915Z"
    },
    "executionInfo": {
     "elapsed": 14,
     "status": "ok",
     "timestamp": 1648640302227,
     "user": {
      "displayName": "Tobi",
      "userId": "06343529474612864282"
     },
     "user_tz": -60
    },
    "id": "mc25zsOc0Zb2",
    "papermill": {
     "duration": 0.071261,
     "end_time": "2022-04-01T09:08:40.824636",
     "exception": false,
     "start_time": "2022-04-01T09:08:40.753375",
     "status": "completed"
    },
    "tags": []
   },
   "outputs": [],
   "source": [
    "from tensorflow.keras.preprocessing.image import ImageDataGenerator\n",
    "\n",
    "train_datagen = ImageDataGenerator(rescale = 1./255,\n",
    "                                   shear_range = 0.2,\n",
    "                                   zoom_range = 0.2,\n",
    "                                   horizontal_flip = True)\n",
    "\n",
    "test_datagen = ImageDataGenerator(rescale = 1./255)"
   ]
  },
  {
   "cell_type": "code",
   "execution_count": 12,
   "id": "10bc73d2",
   "metadata": {
    "execution": {
     "iopub.execute_input": "2022-04-01T09:08:40.961027Z",
     "iopub.status.busy": "2022-04-01T09:08:40.960067Z",
     "iopub.status.idle": "2022-04-01T09:08:41.383169Z",
     "shell.execute_reply": "2022-04-01T09:08:41.383713Z",
     "shell.execute_reply.started": "2022-03-31T15:34:57.661623Z"
    },
    "executionInfo": {
     "elapsed": 11040,
     "status": "ok",
     "timestamp": 1648640313253,
     "user": {
      "displayName": "Tobi",
      "userId": "06343529474612864282"
     },
     "user_tz": -60
    },
    "id": "13hol4fZ0Zgk",
    "outputId": "4087f293-dfe6-4eb6-d798-bae1f6b9a333",
    "papermill": {
     "duration": 0.49356,
     "end_time": "2022-04-01T09:08:41.383861",
     "exception": false,
     "start_time": "2022-04-01T09:08:40.890301",
     "status": "completed"
    },
    "tags": []
   },
   "outputs": [
    {
     "name": "stdout",
     "output_type": "stream",
     "text": [
      "Found 7556 images belonging to 4 classes.\n"
     ]
    }
   ],
   "source": [
    "training_set = train_datagen.flow_from_directory('./Hamoye_capstone_project_smote/Data/train',\n",
    "                                                 target_size = (224, 224),\n",
    "                                                 batch_size = 32,\n",
    "                                                 class_mode = 'categorical')"
   ]
  },
  {
   "cell_type": "code",
   "execution_count": 13,
   "id": "9d18051c",
   "metadata": {
    "execution": {
     "iopub.execute_input": "2022-04-01T09:08:41.520374Z",
     "iopub.status.busy": "2022-04-01T09:08:41.519537Z",
     "iopub.status.idle": "2022-04-01T09:08:41.832704Z",
     "shell.execute_reply": "2022-04-01T09:08:41.832274Z",
     "shell.execute_reply.started": "2022-03-31T15:34:58.204749Z"
    },
    "executionInfo": {
     "elapsed": 1380,
     "status": "ok",
     "timestamp": 1648640314611,
     "user": {
      "displayName": "Tobi",
      "userId": "06343529474612864282"
     },
     "user_tz": -60
    },
    "id": "rEWrDGrk0ZkF",
    "outputId": "c0ed5f80-606e-4739-d9b8-ce318618fa35",
    "papermill": {
     "duration": 0.383202,
     "end_time": "2022-04-01T09:08:41.832824",
     "exception": false,
     "start_time": "2022-04-01T09:08:41.449622",
     "status": "completed"
    },
    "tags": []
   },
   "outputs": [
    {
     "name": "stdout",
     "output_type": "stream",
     "text": [
      "Found 1084 images belonging to 4 classes.\n",
      "Found 2160 images belonging to 4 classes.\n"
     ]
    }
   ],
   "source": [
    "test_set = test_datagen.flow_from_directory('./Hamoye_capstone_project_smote/Data/test',\n",
    "                                            target_size = (224, 224),\n",
    "                                            batch_size = 32,\n",
    "                                            class_mode = 'categorical')\n",
    "val_data = test_datagen.flow_from_directory('./Hamoye_capstone_project_smote/Data/val',\n",
    "                                            target_size = (224, 224),\n",
    "                                            batch_size = 32,\n",
    "                                            class_mode = 'categorical')\n"
   ]
  },
  {
   "cell_type": "code",
   "execution_count": 14,
   "id": "4054921a",
   "metadata": {
    "execution": {
     "iopub.execute_input": "2022-04-01T09:08:41.970103Z",
     "iopub.status.busy": "2022-04-01T09:08:41.969283Z",
     "iopub.status.idle": "2022-04-01T09:27:22.524409Z",
     "shell.execute_reply": "2022-04-01T09:27:22.524980Z"
    },
    "executionInfo": {
     "elapsed": 4376407,
     "status": "ok",
     "timestamp": 1648644691011,
     "user": {
      "displayName": "Tobi",
      "userId": "06343529474612864282"
     },
     "user_tz": -60
    },
    "id": "lYBEXP8Z0ZpP",
    "outputId": "5cfe3ef5-a579-47f1-9fd7-756c5da641f6",
    "papermill": {
     "duration": 1120.625985,
     "end_time": "2022-04-01T09:27:22.525134",
     "exception": false,
     "start_time": "2022-04-01T09:08:41.899149",
     "status": "completed"
    },
    "tags": []
   },
   "outputs": [
    {
     "name": "stderr",
     "output_type": "stream",
     "text": [
      "2022-04-01 09:08:42.398293: I tensorflow/compiler/mlir/mlir_graph_optimization_pass.cc:185] None of the MLIR Optimization Passes are enabled (registered 2)\n"
     ]
    },
    {
     "name": "stdout",
     "output_type": "stream",
     "text": [
      "Epoch 1/10\n"
     ]
    },
    {
     "name": "stderr",
     "output_type": "stream",
     "text": [
      "2022-04-01 09:08:44.177954: I tensorflow/stream_executor/cuda/cuda_dnn.cc:369] Loaded cuDNN version 8005\n"
     ]
    },
    {
     "name": "stdout",
     "output_type": "stream",
     "text": [
      "237/237 [==============================] - 107s 414ms/step - loss: 0.3770 - accuracy: 0.8626 - val_loss: 0.1542 - val_accuracy: 0.9514\n",
      "Epoch 2/10\n",
      "237/237 [==============================] - 96s 405ms/step - loss: 0.1708 - accuracy: 0.9407 - val_loss: 0.1324 - val_accuracy: 0.9556\n",
      "Epoch 3/10\n",
      "237/237 [==============================] - 98s 412ms/step - loss: 0.1191 - accuracy: 0.9561 - val_loss: 0.1803 - val_accuracy: 0.9384\n",
      "Epoch 4/10\n",
      "237/237 [==============================] - 98s 413ms/step - loss: 0.1070 - accuracy: 0.9623 - val_loss: 0.0885 - val_accuracy: 0.9671\n",
      "Epoch 5/10\n",
      "237/237 [==============================] - 98s 411ms/step - loss: 0.0940 - accuracy: 0.9652 - val_loss: 0.1000 - val_accuracy: 0.9639\n",
      "Epoch 6/10\n",
      "237/237 [==============================] - 96s 404ms/step - loss: 0.0833 - accuracy: 0.9688 - val_loss: 0.1344 - val_accuracy: 0.9542\n",
      "Epoch 7/10\n",
      "237/237 [==============================] - 98s 415ms/step - loss: 0.0745 - accuracy: 0.9746 - val_loss: 0.1586 - val_accuracy: 0.9454\n",
      "Epoch 8/10\n",
      "237/237 [==============================] - 98s 414ms/step - loss: 0.0798 - accuracy: 0.9701 - val_loss: 0.0879 - val_accuracy: 0.9704\n",
      "Epoch 9/10\n",
      "237/237 [==============================] - 98s 412ms/step - loss: 0.0575 - accuracy: 0.9801 - val_loss: 0.1033 - val_accuracy: 0.9644\n",
      "Epoch 10/10\n",
      "237/237 [==============================] - 98s 411ms/step - loss: 0.0653 - accuracy: 0.9779 - val_loss: 0.0997 - val_accuracy: 0.9685\n"
     ]
    }
   ],
   "source": [
    "from keras.callbacks import ModelCheckpoint\n",
    "checkpoint = ModelCheckpoint(\"vgg16.hdf5\", monitor='loss', verbose=1,\n",
    "    save_best_only=True, mode='auto', period=1)\n",
    "\n",
    "r = model.fit(\n",
    "  training_set,\n",
    "  validation_data=val_data,\n",
    "  epochs=10,\n",
    "  steps_per_epoch=len(training_set),\n",
    "  validation_steps=len(val_data)\n",
    ")\n",
    "model.save_weights(\"vgg16.hdf5\")"
   ]
  },
  {
   "cell_type": "code",
   "execution_count": 15,
   "id": "b2ad60f9",
   "metadata": {
    "execution": {
     "iopub.execute_input": "2022-04-01T09:27:24.122598Z",
     "iopub.status.busy": "2022-04-01T09:27:24.121806Z",
     "iopub.status.idle": "2022-04-01T09:27:30.579415Z",
     "shell.execute_reply": "2022-04-01T09:27:30.578950Z"
    },
    "executionInfo": {
     "elapsed": 12002,
     "status": "ok",
     "timestamp": 1648644703002,
     "user": {
      "displayName": "Tobi",
      "userId": "06343529474612864282"
     },
     "user_tz": -60
    },
    "id": "2B7uln2p0Zti",
    "outputId": "ec5b6419-c0ba-495d-ab84-107126bcf90a",
    "papermill": {
     "duration": 7.25669,
     "end_time": "2022-04-01T09:27:30.579586",
     "exception": false,
     "start_time": "2022-04-01T09:27:23.322896",
     "status": "completed"
    },
    "tags": []
   },
   "outputs": [
    {
     "name": "stdout",
     "output_type": "stream",
     "text": [
      "Accuracy: 96.402\n"
     ]
    }
   ],
   "source": [
    "_, acc = model.evaluate(test_set, steps=len(test_set), verbose=0)\n",
    "print('Accuracy: %.3f' % (acc * 100.0))"
   ]
  },
  {
   "cell_type": "code",
   "execution_count": 16,
   "id": "95ef5cb8",
   "metadata": {
    "execution": {
     "iopub.execute_input": "2022-04-01T09:27:32.206882Z",
     "iopub.status.busy": "2022-04-01T09:27:32.206114Z",
     "iopub.status.idle": "2022-04-01T09:27:32.508263Z",
     "shell.execute_reply": "2022-04-01T09:27:32.509368Z"
    },
    "executionInfo": {
     "elapsed": 22,
     "status": "ok",
     "timestamp": 1648644703004,
     "user": {
      "displayName": "Tobi",
      "userId": "06343529474612864282"
     },
     "user_tz": -60
    },
    "id": "4skLWOMN0Zxb",
    "outputId": "aef0db23-10a7-417c-f42d-03b5a914cd3f",
    "papermill": {
     "duration": 1.117372,
     "end_time": "2022-04-01T09:27:32.509570",
     "exception": false,
     "start_time": "2022-04-01T09:27:31.392198",
     "status": "completed"
    },
    "tags": []
   },
   "outputs": [
    {
     "data": {
      "image/png": "[encoded data removed]",
      "text/plain": [
       "<Figure size 432x288 with 1 Axes>"
      ]
     },
     "metadata": {
      "needs_background": "light"
     },
     "output_type": "display_data"
    }
   ],
   "source": [
    "import matplotlib.pyplot as plt\n",
    "plt.plot(r.history[\"accuracy\"])\n",
    "plt.plot(r.history['val_accuracy'])\n",
    "plt.plot(r.history['loss'])\n",
    "plt.plot(r.history['val_loss'])\n",
    "plt.title(\"model accuracy\")\n",
    "plt.ylabel(\"Accuracy\")\n",
    "plt.xlabel(\"Epoch\")\n",
    "plt.legend([\"Accuracy\",\"Validation Accuracy\",\"loss\",\"Validation Loss\"])\n",
    "plt.show()"
   ]
  },
  {
   "cell_type": "code",
   "execution_count": 17,
   "id": "6790ecae",
   "metadata": {
    "execution": {
     "iopub.execute_input": "2022-04-01T09:27:34.298103Z",
     "iopub.status.busy": "2022-04-01T09:27:34.296488Z",
     "iopub.status.idle": "2022-04-01T09:27:34.298652Z",
     "shell.execute_reply": "2022-04-01T09:27:34.299074Z"
    },
    "executionInfo": {
     "elapsed": 19,
     "status": "ok",
     "timestamp": 1648644703007,
     "user": {
      "displayName": "Tobi",
      "userId": "06343529474612864282"
     },
     "user_tz": -60
    },
    "id": "WNbXLukTz2vW",
    "papermill": {
     "duration": 0.811622,
     "end_time": "2022-04-01T09:27:34.299213",
     "exception": false,
     "start_time": "2022-04-01T09:27:33.487591",
     "status": "completed"
    },
    "tags": []
   },
   "outputs": [],
   "source": [
    "y_val = test_set.classes"
   ]
  },
  {
   "cell_type": "code",
   "execution_count": 18,
   "id": "f2598640",
   "metadata": {
    "execution": {
     "iopub.execute_input": "2022-04-01T09:27:35.984656Z",
     "iopub.status.busy": "2022-04-01T09:27:35.983989Z",
     "iopub.status.idle": "2022-04-01T09:27:39.653582Z",
     "shell.execute_reply": "2022-04-01T09:27:39.652681Z"
    },
    "executionInfo": {
     "elapsed": 12348,
     "status": "ok",
     "timestamp": 1648644715339,
     "user": {
      "displayName": "Tobi",
      "userId": "06343529474612864282"
     },
     "user_tz": -60
    },
    "id": "DNCswh3_OTMk",
    "outputId": "a3c88144-aac3-4845-c7f9-4af6a8d40eb6",
    "papermill": {
     "duration": 4.550173,
     "end_time": "2022-04-01T09:27:39.653709",
     "exception": false,
     "start_time": "2022-04-01T09:27:35.103536",
     "status": "completed"
    },
    "tags": []
   },
   "outputs": [
    {
     "name": "stdout",
     "output_type": "stream",
     "text": [
      "              precision    recall  f1-score   support\n",
      "\n",
      "           0       0.24      0.24      0.24       271\n",
      "           1       0.27      0.25      0.26       271\n",
      "           2       0.27      0.29      0.28       271\n",
      "           3       0.25      0.25      0.25       271\n",
      "\n",
      "    accuracy                           0.26      1084\n",
      "   macro avg       0.26      0.26      0.26      1084\n",
      "weighted avg       0.26      0.26      0.26      1084\n",
      "\n"
     ]
    }
   ],
   "source": [
    "from sklearn.metrics import classification_report,confusion_matrix\n",
    "predictions = model.predict(test_set, verbose=0)\n",
    "\n",
    "\n",
    "print(classification_report( y_val, predictions.argmax(axis=1)))"
   ]
  },
  {
   "cell_type": "code",
   "execution_count": null,
   "id": "a4e5bb0f",
   "metadata": {
    "executionInfo": {
     "elapsed": 3156,
     "status": "ok",
     "timestamp": 1648644718476,
     "user": {
      "displayName": "Tobi",
      "userId": "06343529474612864282"
     },
     "user_tz": -60
    },
    "id": "Y2hAfOXROTnt",
    "outputId": "b950c54b-8046-4eb7-e74e-4a2ce6b1e9bc",
    "papermill": {
     "duration": 0.8234,
     "end_time": "2022-04-01T09:27:41.279146",
     "exception": false,
     "start_time": "2022-04-01T09:27:40.455746",
     "status": "completed"
    },
    "tags": []
   },
   "outputs": [],
   "source": []
  },
  {
   "cell_type": "code",
   "execution_count": null,
   "id": "478fbae4",
   "metadata": {
    "executionInfo": {
     "elapsed": 34,
     "status": "ok",
     "timestamp": 1648644718477,
     "user": {
      "displayName": "Tobi",
      "userId": "06343529474612864282"
     },
     "user_tz": -60
    },
    "id": "UArDKm2LOTrR",
    "papermill": {
     "duration": 0.805357,
     "end_time": "2022-04-01T09:27:42.898124",
     "exception": false,
     "start_time": "2022-04-01T09:27:42.092767",
     "status": "completed"
    },
    "tags": []
   },
   "outputs": [],
   "source": []
  },
  {
   "cell_type": "markdown",
   "id": "453c0d6e",
   "metadata": {
    "id": "8WrXe0ieyjqD",
    "papermill": {
     "duration": 0.803553,
     "end_time": "2022-04-01T09:27:44.808678",
     "exception": false,
     "start_time": "2022-04-01T09:27:44.005125",
     "status": "completed"
    },
    "tags": []
   },
   "source": []
  }
 ],
 "metadata": {
  "kernelspec": {
   "display_name": "Python 3",
   "language": "python",
   "name": "python3"
  },
  "language_info": {
   "codemirror_mode": {
    "name": "ipython",
    "version": 3
   },
   "file_extension": ".py",
   "mimetype": "text/x-python",
   "name": "python",
   "nbconvert_exporter": "python",
   "pygments_lexer": "ipython3",
   "version": "3.7.12"
  },
  "papermill": {
   "default_parameters": {},
   "duration": 1181.125597,
   "end_time": "2022-04-01T09:27:48.904637",
   "environment_variables": {},
   "exception": null,
   "input_path": "__notebook__.ipynb",
   "output_path": "__notebook__.ipynb",
   "parameters": {},
   "start_time": "2022-04-01T09:08:07.779040",
   "version": "2.3.3"
  }
 },
 "nbformat": 4,
 "nbformat_minor": 5
}
