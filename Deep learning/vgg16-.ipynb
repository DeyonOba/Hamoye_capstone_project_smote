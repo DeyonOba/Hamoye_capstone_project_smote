{
 "cells": [
  {
   "cell_type": "code",
   "execution_count": 1,
   "id": "e06897f3",
   "metadata": {
    "execution": {
     "iopub.execute_input": "2022-03-31T16:33:21.397894Z",
     "iopub.status.busy": "2022-03-31T16:33:21.396384Z",
     "iopub.status.idle": "2022-03-31T16:33:34.562101Z",
     "shell.execute_reply": "2022-03-31T16:33:34.561418Z",
     "shell.execute_reply.started": "2022-03-31T15:34:28.130998Z"
    },
    "papermill": {
     "duration": 13.189064,
     "end_time": "2022-03-31T16:33:34.562266",
     "exception": false,
     "start_time": "2022-03-31T16:33:21.373202",
     "status": "completed"
    },
    "tags": []
   },
   "outputs": [
    {
     "name": "stdout",
     "output_type": "stream",
     "text": [
      "Cloning into 'Hamoye_capstone_project_smote'...\r\n",
      "remote: Enumerating objects: 10798, done.\u001b[K\r\n",
      "remote: Counting objects: 100% (30/30), done.\u001b[K\r\n",
      "remote: Compressing objects: 100% (24/24), done.\u001b[K\r\n",
      "remote: Total 10798 (delta 7), reused 14 (delta 3), pack-reused 10768\u001b[K\r\n",
      "Receiving objects: 100% (10798/10798), 358.61 MiB | 42.72 MiB/s, done.\r\n",
      "Resolving deltas: 100% (12/12), done.\r\n",
      "Updating files: 100% (10806/10806), done.\r\n"
     ]
    }
   ],
   "source": [
    "!git clone https://github.com/toby766/Hamoye_capstone_project_smote.git"
   ]
  },
  {
   "cell_type": "code",
   "execution_count": 2,
   "id": "4d863666",
   "metadata": {
    "execution": {
     "iopub.execute_input": "2022-03-31T16:33:34.683373Z",
     "iopub.status.busy": "2022-03-31T16:33:34.682775Z",
     "iopub.status.idle": "2022-03-31T16:33:39.398563Z",
     "shell.execute_reply": "2022-03-31T16:33:39.398059Z",
     "shell.execute_reply.started": "2022-03-31T15:34:46.95919Z"
    },
    "executionInfo": {
     "elapsed": 4217,
     "status": "ok",
     "timestamp": 1648640298026,
     "user": {
      "displayName": "Tobi",
      "userId": "06343529474612864282"
     },
     "user_tz": -60
    },
    "id": "l-PTM6beynBk",
    "papermill": {
     "duration": 4.777164,
     "end_time": "2022-03-31T16:33:39.398702",
     "exception": false,
     "start_time": "2022-03-31T16:33:34.621538",
     "status": "completed"
    },
    "tags": []
   },
   "outputs": [],
   "source": [
    "from tensorflow.keras.layers import Input, Lambda, Dense, Flatten\n",
    "from tensorflow.keras.models import Model\n",
    "from tensorflow.keras.applications.vgg16 import VGG16\n",
    "from tensorflow.keras.applications.vgg19 import VGG19\n",
    "from tensorflow.keras.preprocessing import image\n",
    "from tensorflow.keras.preprocessing.image import ImageDataGenerator,load_img\n",
    "from tensorflow.keras.models import Sequential\n",
    "import numpy as np\n",
    "from glob import glob\n"
   ]
  },
  {
   "cell_type": "code",
   "execution_count": 3,
   "id": "7010d516",
   "metadata": {
    "execution": {
     "iopub.execute_input": "2022-03-31T16:33:39.519289Z",
     "iopub.status.busy": "2022-03-31T16:33:39.518449Z",
     "iopub.status.idle": "2022-03-31T16:33:39.520886Z",
     "shell.execute_reply": "2022-03-31T16:33:39.520437Z",
     "shell.execute_reply.started": "2022-03-31T15:34:53.48858Z"
    },
    "executionInfo": {
     "elapsed": 10,
     "status": "ok",
     "timestamp": 1648640298028,
     "user": {
      "displayName": "Tobi",
      "userId": "06343529474612864282"
     },
     "user_tz": -60
    },
    "id": "Zug_ylZxyjQV",
    "papermill": {
     "duration": 0.062985,
     "end_time": "2022-03-31T16:33:39.520997",
     "exception": false,
     "start_time": "2022-03-31T16:33:39.458012",
     "status": "completed"
    },
    "tags": []
   },
   "outputs": [],
   "source": [
    "IMAGE_SIZE = [224, 224]\n",
    "\n",
    "train_path = './Hamoye_capstone_project_smote/Data/train'\n",
    "valid_path = './Hamoye_capstone_project_smote/Data/test'"
   ]
  },
  {
   "cell_type": "code",
   "execution_count": 4,
   "id": "e17ba57c",
   "metadata": {
    "execution": {
     "iopub.execute_input": "2022-03-31T16:33:39.641787Z",
     "iopub.status.busy": "2022-03-31T16:33:39.640982Z",
     "iopub.status.idle": "2022-03-31T16:33:42.482883Z",
     "shell.execute_reply": "2022-03-31T16:33:42.481910Z",
     "shell.execute_reply.started": "2022-03-31T15:34:53.503723Z"
    },
    "executionInfo": {
     "elapsed": 2837,
     "status": "ok",
     "timestamp": 1648640300857,
     "user": {
      "displayName": "Tobi",
      "userId": "06343529474612864282"
     },
     "user_tz": -60
    },
    "id": "yfJ4kiJNz2Y3",
    "outputId": "928102e0-282d-46e7-b3b7-1e6d9af23377",
    "papermill": {
     "duration": 2.905993,
     "end_time": "2022-03-31T16:33:42.483035",
     "exception": false,
     "start_time": "2022-03-31T16:33:39.577042",
     "status": "completed"
    },
    "tags": []
   },
   "outputs": [
    {
     "name": "stderr",
     "output_type": "stream",
     "text": [
      "2022-03-31 16:33:39.724561: I tensorflow/stream_executor/cuda/cuda_gpu_executor.cc:937] successful NUMA node read from SysFS had negative value (-1), but there must be at least one NUMA node, so returning NUMA node zero\n",
      "2022-03-31 16:33:39.806594: I tensorflow/stream_executor/cuda/cuda_gpu_executor.cc:937] successful NUMA node read from SysFS had negative value (-1), but there must be at least one NUMA node, so returning NUMA node zero\n",
      "2022-03-31 16:33:39.807278: I tensorflow/stream_executor/cuda/cuda_gpu_executor.cc:937] successful NUMA node read from SysFS had negative value (-1), but there must be at least one NUMA node, so returning NUMA node zero\n",
      "2022-03-31 16:33:39.808406: I tensorflow/core/platform/cpu_feature_guard.cc:142] This TensorFlow binary is optimized with oneAPI Deep Neural Network Library (oneDNN) to use the following CPU instructions in performance-critical operations:  AVX2 AVX512F FMA\n",
      "To enable them in other operations, rebuild TensorFlow with the appropriate compiler flags.\n",
      "2022-03-31 16:33:39.809158: I tensorflow/stream_executor/cuda/cuda_gpu_executor.cc:937] successful NUMA node read from SysFS had negative value (-1), but there must be at least one NUMA node, so returning NUMA node zero\n",
      "2022-03-31 16:33:39.809839: I tensorflow/stream_executor/cuda/cuda_gpu_executor.cc:937] successful NUMA node read from SysFS had negative value (-1), but there must be at least one NUMA node, so returning NUMA node zero\n",
      "2022-03-31 16:33:39.810422: I tensorflow/stream_executor/cuda/cuda_gpu_executor.cc:937] successful NUMA node read from SysFS had negative value (-1), but there must be at least one NUMA node, so returning NUMA node zero\n",
      "2022-03-31 16:33:41.406696: I tensorflow/stream_executor/cuda/cuda_gpu_executor.cc:937] successful NUMA node read from SysFS had negative value (-1), but there must be at least one NUMA node, so returning NUMA node zero\n",
      "2022-03-31 16:33:41.407440: I tensorflow/stream_executor/cuda/cuda_gpu_executor.cc:937] successful NUMA node read from SysFS had negative value (-1), but there must be at least one NUMA node, so returning NUMA node zero\n",
      "2022-03-31 16:33:41.408123: I tensorflow/stream_executor/cuda/cuda_gpu_executor.cc:937] successful NUMA node read from SysFS had negative value (-1), but there must be at least one NUMA node, so returning NUMA node zero\n",
      "2022-03-31 16:33:41.408742: I tensorflow/core/common_runtime/gpu/gpu_device.cc:1510] Created device /job:localhost/replica:0/task:0/device:GPU:0 with 15403 MB memory:  -> device: 0, name: Tesla P100-PCIE-16GB, pci bus id: 0000:00:04.0, compute capability: 6.0\n"
     ]
    },
    {
     "name": "stdout",
     "output_type": "stream",
     "text": [
      "Downloading data from https://storage.googleapis.com/tensorflow/keras-applications/vgg16/vgg16_weights_tf_dim_ordering_tf_kernels_notop.h5\n",
      "58892288/58889256 [==============================] - 0s 0us/step\n",
      "58900480/58889256 [==============================] - 0s 0us/step\n"
     ]
    }
   ],
   "source": [
    "vgg16 = VGG16(input_shape=IMAGE_SIZE + [3], weights='imagenet', include_top=False)"
   ]
  },
  {
   "cell_type": "code",
   "execution_count": 5,
   "id": "97bbdec1",
   "metadata": {
    "execution": {
     "iopub.execute_input": "2022-03-31T16:33:42.606236Z",
     "iopub.status.busy": "2022-03-31T16:33:42.605402Z",
     "iopub.status.idle": "2022-03-31T16:33:42.607896Z",
     "shell.execute_reply": "2022-03-31T16:33:42.607439Z",
     "shell.execute_reply.started": "2022-03-31T15:34:57.539973Z"
    },
    "executionInfo": {
     "elapsed": 11,
     "status": "ok",
     "timestamp": 1648640300858,
     "user": {
      "displayName": "Tobi",
      "userId": "06343529474612864282"
     },
     "user_tz": -60
    },
    "id": "oHDObVEvz2mt",
    "papermill": {
     "duration": 0.065413,
     "end_time": "2022-03-31T16:33:42.608013",
     "exception": false,
     "start_time": "2022-03-31T16:33:42.542600",
     "status": "completed"
    },
    "tags": []
   },
   "outputs": [],
   "source": [
    "for layer in vgg16.layers:\n",
    "    layer.trainable = False"
   ]
  },
  {
   "cell_type": "code",
   "execution_count": 6,
   "id": "c5e25592",
   "metadata": {
    "execution": {
     "iopub.execute_input": "2022-03-31T16:33:42.731717Z",
     "iopub.status.busy": "2022-03-31T16:33:42.731031Z",
     "iopub.status.idle": "2022-03-31T16:33:42.733809Z",
     "shell.execute_reply": "2022-03-31T16:33:42.733324Z",
     "shell.execute_reply.started": "2022-03-31T15:34:57.549149Z"
    },
    "executionInfo": {
     "elapsed": 1374,
     "status": "ok",
     "timestamp": 1648640302223,
     "user": {
      "displayName": "Tobi",
      "userId": "06343529474612864282"
     },
     "user_tz": -60
    },
    "id": "dgkZ6B6Fz2rF",
    "papermill": {
     "duration": 0.065982,
     "end_time": "2022-03-31T16:33:42.733924",
     "exception": false,
     "start_time": "2022-03-31T16:33:42.667942",
     "status": "completed"
    },
    "tags": []
   },
   "outputs": [],
   "source": [
    "folders = glob('./Hamoye_capstone_project_smote/Data/train/*')"
   ]
  },
  {
   "cell_type": "code",
   "execution_count": 7,
   "id": "3bbedc11",
   "metadata": {
    "execution": {
     "iopub.execute_input": "2022-03-31T16:33:42.859610Z",
     "iopub.status.busy": "2022-03-31T16:33:42.858920Z",
     "iopub.status.idle": "2022-03-31T16:33:42.861887Z",
     "shell.execute_reply": "2022-03-31T16:33:42.862293Z",
     "shell.execute_reply.started": "2022-03-31T15:34:57.572859Z"
    },
    "executionInfo": {
     "elapsed": 18,
     "status": "ok",
     "timestamp": 1648640302224,
     "user": {
      "displayName": "Tobi",
      "userId": "06343529474612864282"
     },
     "user_tz": -60
    },
    "id": "pjpVdHIj0ZPQ",
    "outputId": "55191efc-b9b7-4792-cbfe-7a10c5021565",
    "papermill": {
     "duration": 0.069331,
     "end_time": "2022-03-31T16:33:42.862448",
     "exception": false,
     "start_time": "2022-03-31T16:33:42.793117",
     "status": "completed"
    },
    "tags": []
   },
   "outputs": [
    {
     "data": {
      "text/plain": [
       "['./Hamoye_capstone_project_smote/Data/train/Rhino',\n",
       " './Hamoye_capstone_project_smote/Data/train/Elephant',\n",
       " './Hamoye_capstone_project_smote/Data/train/Zebra',\n",
       " './Hamoye_capstone_project_smote/Data/train/Buffalo']"
      ]
     },
     "execution_count": 7,
     "metadata": {},
     "output_type": "execute_result"
    }
   ],
   "source": [
    "folders"
   ]
  },
  {
   "cell_type": "code",
   "execution_count": 8,
   "id": "606e4ccc",
   "metadata": {
    "execution": {
     "iopub.execute_input": "2022-03-31T16:33:43.055599Z",
     "iopub.status.busy": "2022-03-31T16:33:43.054600Z",
     "iopub.status.idle": "2022-03-31T16:33:43.063681Z",
     "shell.execute_reply": "2022-03-31T16:33:43.064241Z",
     "shell.execute_reply.started": "2022-03-31T15:34:57.590138Z"
    },
    "executionInfo": {
     "elapsed": 14,
     "status": "ok",
     "timestamp": 1648640302225,
     "user": {
      "displayName": "Tobi",
      "userId": "06343529474612864282"
     },
     "user_tz": -60
    },
    "id": "BEnQ0RFQ0ZTv",
    "papermill": {
     "duration": 0.130525,
     "end_time": "2022-03-31T16:33:43.064445",
     "exception": false,
     "start_time": "2022-03-31T16:33:42.933920",
     "status": "completed"
    },
    "tags": []
   },
   "outputs": [],
   "source": [
    "x = Flatten()(vgg16.output)"
   ]
  },
  {
   "cell_type": "code",
   "execution_count": 9,
   "id": "eb00b801",
   "metadata": {
    "execution": {
     "iopub.execute_input": "2022-03-31T16:33:43.267495Z",
     "iopub.status.busy": "2022-03-31T16:33:43.266711Z",
     "iopub.status.idle": "2022-03-31T16:33:43.285073Z",
     "shell.execute_reply": "2022-03-31T16:33:43.286124Z",
     "shell.execute_reply.started": "2022-03-31T15:34:57.605949Z"
    },
    "executionInfo": {
     "elapsed": 14,
     "status": "ok",
     "timestamp": 1648640302226,
     "user": {
      "displayName": "Tobi",
      "userId": "06343529474612864282"
     },
     "user_tz": -60
    },
    "id": "CKcIZQqG0ZKn",
    "papermill": {
     "duration": 0.123613,
     "end_time": "2022-03-31T16:33:43.286318",
     "exception": false,
     "start_time": "2022-03-31T16:33:43.162705",
     "status": "completed"
    },
    "tags": []
   },
   "outputs": [],
   "source": [
    "prediction = Dense(len(folders), activation='softmax')(x)\n",
    "\n",
    "# create a model object\n",
    "model = Model(inputs=vgg16.input, outputs=prediction)"
   ]
  },
  {
   "cell_type": "code",
   "execution_count": 10,
   "id": "83ffad09",
   "metadata": {
    "execution": {
     "iopub.execute_input": "2022-03-31T16:33:43.495418Z",
     "iopub.status.busy": "2022-03-31T16:33:43.494443Z",
     "iopub.status.idle": "2022-03-31T16:33:43.511459Z",
     "shell.execute_reply": "2022-03-31T16:33:43.512067Z",
     "shell.execute_reply.started": "2022-03-31T15:34:57.632589Z"
    },
    "executionInfo": {
     "elapsed": 14,
     "status": "ok",
     "timestamp": 1648640302226,
     "user": {
      "displayName": "Tobi",
      "userId": "06343529474612864282"
     },
     "user_tz": -60
    },
    "id": "TiV7S9TM0ZYN",
    "papermill": {
     "duration": 0.119203,
     "end_time": "2022-03-31T16:33:43.512271",
     "exception": false,
     "start_time": "2022-03-31T16:33:43.393068",
     "status": "completed"
    },
    "tags": []
   },
   "outputs": [],
   "source": [
    "model.compile(\n",
    "  loss='categorical_crossentropy',\n",
    "  optimizer='adam',\n",
    "  metrics=['accuracy']\n",
    ")"
   ]
  },
  {
   "cell_type": "code",
   "execution_count": 11,
   "id": "e4ab30f2",
   "metadata": {
    "execution": {
     "iopub.execute_input": "2022-03-31T16:33:43.718894Z",
     "iopub.status.busy": "2022-03-31T16:33:43.718109Z",
     "iopub.status.idle": "2022-03-31T16:33:43.721157Z",
     "shell.execute_reply": "2022-03-31T16:33:43.721816Z",
     "shell.execute_reply.started": "2022-03-31T15:34:57.651915Z"
    },
    "executionInfo": {
     "elapsed": 14,
     "status": "ok",
     "timestamp": 1648640302227,
     "user": {
      "displayName": "Tobi",
      "userId": "06343529474612864282"
     },
     "user_tz": -60
    },
    "id": "mc25zsOc0Zb2",
    "papermill": {
     "duration": 0.109424,
     "end_time": "2022-03-31T16:33:43.722005",
     "exception": false,
     "start_time": "2022-03-31T16:33:43.612581",
     "status": "completed"
    },
    "tags": []
   },
   "outputs": [],
   "source": [
    "from tensorflow.keras.preprocessing.image import ImageDataGenerator\n",
    "\n",
    "train_datagen = ImageDataGenerator(rescale = 1./255,\n",
    "                                   shear_range = 0.2,\n",
    "                                   zoom_range = 0.2,\n",
    "                                   horizontal_flip = True)\n",
    "\n",
    "test_datagen = ImageDataGenerator(rescale = 1./255)"
   ]
  },
  {
   "cell_type": "code",
   "execution_count": 12,
   "id": "29b00945",
   "metadata": {
    "execution": {
     "iopub.execute_input": "2022-03-31T16:33:43.927098Z",
     "iopub.status.busy": "2022-03-31T16:33:43.926316Z",
     "iopub.status.idle": "2022-03-31T16:33:44.371138Z",
     "shell.execute_reply": "2022-03-31T16:33:44.371592Z",
     "shell.execute_reply.started": "2022-03-31T15:34:57.661623Z"
    },
    "executionInfo": {
     "elapsed": 11040,
     "status": "ok",
     "timestamp": 1648640313253,
     "user": {
      "displayName": "Tobi",
      "userId": "06343529474612864282"
     },
     "user_tz": -60
    },
    "id": "13hol4fZ0Zgk",
    "outputId": "4087f293-dfe6-4eb6-d798-bae1f6b9a333",
    "papermill": {
     "duration": 0.553046,
     "end_time": "2022-03-31T16:33:44.371764",
     "exception": false,
     "start_time": "2022-03-31T16:33:43.818718",
     "status": "completed"
    },
    "tags": []
   },
   "outputs": [
    {
     "name": "stdout",
     "output_type": "stream",
     "text": [
      "Found 7556 images belonging to 4 classes.\n"
     ]
    }
   ],
   "source": [
    "training_set = train_datagen.flow_from_directory('./Hamoye_capstone_project_smote/Data/train',\n",
    "                                                 target_size = (224, 224),\n",
    "                                                 batch_size = 32,\n",
    "                                                 class_mode = 'categorical')"
   ]
  },
  {
   "cell_type": "code",
   "execution_count": 13,
   "id": "8b584252",
   "metadata": {
    "execution": {
     "iopub.execute_input": "2022-03-31T16:33:44.497634Z",
     "iopub.status.busy": "2022-03-31T16:33:44.496812Z",
     "iopub.status.idle": "2022-03-31T16:33:44.807177Z",
     "shell.execute_reply": "2022-03-31T16:33:44.806711Z",
     "shell.execute_reply.started": "2022-03-31T15:34:58.204749Z"
    },
    "executionInfo": {
     "elapsed": 1380,
     "status": "ok",
     "timestamp": 1648640314611,
     "user": {
      "displayName": "Tobi",
      "userId": "06343529474612864282"
     },
     "user_tz": -60
    },
    "id": "rEWrDGrk0ZkF",
    "outputId": "c0ed5f80-606e-4739-d9b8-ce318618fa35",
    "papermill": {
     "duration": 0.376541,
     "end_time": "2022-03-31T16:33:44.807306",
     "exception": false,
     "start_time": "2022-03-31T16:33:44.430765",
     "status": "completed"
    },
    "tags": []
   },
   "outputs": [
    {
     "name": "stdout",
     "output_type": "stream",
     "text": [
      "Found 1084 images belonging to 4 classes.\n",
      "Found 2160 images belonging to 4 classes.\n"
     ]
    }
   ],
   "source": [
    "test_set = test_datagen.flow_from_directory('./Hamoye_capstone_project_smote/Data/test',\n",
    "                                            target_size = (224, 224),\n",
    "                                            batch_size = 32,\n",
    "                                            class_mode = 'categorical')\n",
    "val_data = test_datagen.flow_from_directory('./Hamoye_capstone_project_smote/Data/val',\n",
    "                                            target_size = (224, 224),\n",
    "                                            batch_size = 32,\n",
    "                                            class_mode = 'categorical')\n"
   ]
  },
  {
   "cell_type": "code",
   "execution_count": 14,
   "id": "bddcf917",
   "metadata": {
    "execution": {
     "iopub.execute_input": "2022-03-31T16:33:44.976769Z",
     "iopub.status.busy": "2022-03-31T16:33:44.975848Z",
     "iopub.status.idle": "2022-03-31T16:53:52.836277Z",
     "shell.execute_reply": "2022-03-31T16:53:52.835428Z"
    },
    "executionInfo": {
     "elapsed": 4376407,
     "status": "ok",
     "timestamp": 1648644691011,
     "user": {
      "displayName": "Tobi",
      "userId": "06343529474612864282"
     },
     "user_tz": -60
    },
    "id": "lYBEXP8Z0ZpP",
    "outputId": "5cfe3ef5-a579-47f1-9fd7-756c5da641f6",
    "papermill": {
     "duration": 1207.96834,
     "end_time": "2022-03-31T16:53:52.836445",
     "exception": false,
     "start_time": "2022-03-31T16:33:44.868105",
     "status": "completed"
    },
    "tags": []
   },
   "outputs": [
    {
     "name": "stderr",
     "output_type": "stream",
     "text": [
      "2022-03-31 16:33:45.707492: I tensorflow/compiler/mlir/mlir_graph_optimization_pass.cc:185] None of the MLIR Optimization Passes are enabled (registered 2)\n"
     ]
    },
    {
     "name": "stdout",
     "output_type": "stream",
     "text": [
      "Epoch 1/10\n"
     ]
    },
    {
     "name": "stderr",
     "output_type": "stream",
     "text": [
      "2022-03-31 16:33:47.425655: I tensorflow/stream_executor/cuda/cuda_dnn.cc:369] Loaded cuDNN version 8005\n"
     ]
    },
    {
     "name": "stdout",
     "output_type": "stream",
     "text": [
      "237/237 [==============================] - 108s 417ms/step - loss: 0.3673 - accuracy: 0.8629 - val_loss: 0.1567 - val_accuracy: 0.9431\n",
      "Epoch 2/10\n",
      "237/237 [==============================] - 97s 409ms/step - loss: 0.1673 - accuracy: 0.9403 - val_loss: 0.1167 - val_accuracy: 0.9593\n",
      "Epoch 3/10\n",
      "237/237 [==============================] - 98s 413ms/step - loss: 0.1364 - accuracy: 0.9502 - val_loss: 0.1601 - val_accuracy: 0.9389\n",
      "Epoch 4/10\n",
      "237/237 [==============================] - 97s 410ms/step - loss: 0.1181 - accuracy: 0.9565 - val_loss: 0.1350 - val_accuracy: 0.9505\n",
      "Epoch 5/10\n",
      "237/237 [==============================] - 98s 411ms/step - loss: 0.0924 - accuracy: 0.9657 - val_loss: 0.0887 - val_accuracy: 0.9676\n",
      "Epoch 6/10\n",
      "237/237 [==============================] - 99s 415ms/step - loss: 0.0687 - accuracy: 0.9750 - val_loss: 0.1244 - val_accuracy: 0.9551\n",
      "Epoch 7/10\n",
      "237/237 [==============================] - 97s 408ms/step - loss: 0.0638 - accuracy: 0.9779 - val_loss: 0.1083 - val_accuracy: 0.9620\n",
      "Epoch 8/10\n",
      "237/237 [==============================] - 98s 411ms/step - loss: 0.0690 - accuracy: 0.9742 - val_loss: 0.1120 - val_accuracy: 0.9583\n",
      "Epoch 9/10\n",
      "237/237 [==============================] - 99s 415ms/step - loss: 0.0576 - accuracy: 0.9791 - val_loss: 0.1273 - val_accuracy: 0.9551\n",
      "Epoch 10/10\n",
      "237/237 [==============================] - 98s 412ms/step - loss: 0.0544 - accuracy: 0.9819 - val_loss: 0.1276 - val_accuracy: 0.9597\n"
     ]
    }
   ],
   "source": [
    "from keras.callbacks import ModelCheckpoint\n",
    "checkpoint = ModelCheckpoint(\"vgg16.hdf5\", monitor='loss', verbose=1,\n",
    "    save_best_only=True, mode='auto', period=1)\n",
    "\n",
    "r = model.fit(\n",
    "  training_set,\n",
    "  validation_data=val_data,\n",
    "  epochs=10,\n",
    "  steps_per_epoch=len(training_set),\n",
    "  validation_steps=len(val_data)\n",
    ")\n",
    "model.save_weights(\"vgg16.hdf5\")"
   ]
  },
  {
   "cell_type": "code",
   "execution_count": 15,
   "id": "0deef9e5",
   "metadata": {
    "execution": {
     "iopub.execute_input": "2022-03-31T16:53:54.408675Z",
     "iopub.status.busy": "2022-03-31T16:53:54.407893Z",
     "iopub.status.idle": "2022-03-31T16:54:00.775246Z",
     "shell.execute_reply": "2022-03-31T16:54:00.774779Z"
    },
    "executionInfo": {
     "elapsed": 12002,
     "status": "ok",
     "timestamp": 1648644703002,
     "user": {
      "displayName": "Tobi",
      "userId": "06343529474612864282"
     },
     "user_tz": -60
    },
    "id": "2B7uln2p0Zti",
    "outputId": "ec5b6419-c0ba-495d-ab84-107126bcf90a",
    "papermill": {
     "duration": 7.156745,
     "end_time": "2022-03-31T16:54:00.775372",
     "exception": false,
     "start_time": "2022-03-31T16:53:53.618627",
     "status": "completed"
    },
    "tags": []
   },
   "outputs": [
    {
     "name": "stdout",
     "output_type": "stream",
     "text": [
      "Accuracy: 95.111\n"
     ]
    }
   ],
   "source": [
    "_, acc = model.evaluate(test_set, steps=len(test_set), verbose=0)\n",
    "print('Accuracy: %.3f' % (acc * 100.0))"
   ]
  },
  {
   "cell_type": "code",
   "execution_count": 16,
   "id": "72a8f8b7",
   "metadata": {
    "execution": {
     "iopub.execute_input": "2022-03-31T16:54:02.366432Z",
     "iopub.status.busy": "2022-03-31T16:54:02.365696Z",
     "iopub.status.idle": "2022-03-31T16:54:02.566688Z",
     "shell.execute_reply": "2022-03-31T16:54:02.566218Z"
    },
    "executionInfo": {
     "elapsed": 22,
     "status": "ok",
     "timestamp": 1648644703004,
     "user": {
      "displayName": "Tobi",
      "userId": "06343529474612864282"
     },
     "user_tz": -60
    },
    "id": "4skLWOMN0Zxb",
    "outputId": "aef0db23-10a7-417c-f42d-03b5a914cd3f",
    "papermill": {
     "duration": 0.992019,
     "end_time": "2022-03-31T16:54:02.566823",
     "exception": false,
     "start_time": "2022-03-31T16:54:01.574804",
     "status": "completed"
    },
    "tags": []
   },
   "outputs": [
    {
     "data": {
      "image/png": "[encoded data removed]",
      "text/plain": [
       "<Figure size 432x288 with 1 Axes>"
      ]
     },
     "metadata": {
      "needs_background": "light"
     },
     "output_type": "display_data"
    }
   ],
   "source": [
    "import matplotlib.pyplot as plt\n",
    "plt.plot(r.history[\"accuracy\"])\n",
    "plt.plot(r.history['val_accuracy'])\n",
    "plt.plot(r.history['loss'])\n",
    "plt.plot(r.history['val_loss'])\n",
    "plt.title(\"model accuracy\")\n",
    "plt.ylabel(\"Accuracy\")\n",
    "plt.xlabel(\"Epoch\")\n",
    "plt.legend([\"Accuracy\",\"Validation Accuracy\",\"loss\",\"Validation Loss\"])\n",
    "plt.show()"
   ]
  },
  {
   "cell_type": "code",
   "execution_count": 17,
   "id": "53704bdc",
   "metadata": {
    "execution": {
     "iopub.execute_input": "2022-03-31T16:54:04.210067Z",
     "iopub.status.busy": "2022-03-31T16:54:04.209156Z",
     "iopub.status.idle": "2022-03-31T16:54:04.210761Z",
     "shell.execute_reply": "2022-03-31T16:54:04.211258Z"
    },
    "executionInfo": {
     "elapsed": 19,
     "status": "ok",
     "timestamp": 1648644703007,
     "user": {
      "displayName": "Tobi",
      "userId": "06343529474612864282"
     },
     "user_tz": -60
    },
    "id": "WNbXLukTz2vW",
    "papermill": {
     "duration": 0.804399,
     "end_time": "2022-03-31T16:54:04.211393",
     "exception": false,
     "start_time": "2022-03-31T16:54:03.406994",
     "status": "completed"
    },
    "tags": []
   },
   "outputs": [],
   "source": [
    "y_val = test_set.classes"
   ]
  },
  {
   "cell_type": "code",
   "execution_count": 18,
   "id": "dfeb05cf",
   "metadata": {
    "execution": {
     "iopub.execute_input": "2022-03-31T16:54:05.813476Z",
     "iopub.status.busy": "2022-03-31T16:54:05.812811Z",
     "iopub.status.idle": "2022-03-31T16:54:10.027994Z",
     "shell.execute_reply": "2022-03-31T16:54:10.027553Z"
    },
    "executionInfo": {
     "elapsed": 12348,
     "status": "ok",
     "timestamp": 1648644715339,
     "user": {
      "displayName": "Tobi",
      "userId": "06343529474612864282"
     },
     "user_tz": -60
    },
    "id": "DNCswh3_OTMk",
    "outputId": "a3c88144-aac3-4845-c7f9-4af6a8d40eb6",
    "papermill": {
     "duration": 5.015297,
     "end_time": "2022-03-31T16:54:10.028125",
     "exception": false,
     "start_time": "2022-03-31T16:54:05.012828",
     "status": "completed"
    },
    "tags": []
   },
   "outputs": [
    {
     "name": "stdout",
     "output_type": "stream",
     "text": [
      "              precision    recall  f1-score   support\n",
      "\n",
      "           0       0.22      0.23      0.22       271\n",
      "           1       0.23      0.26      0.24       271\n",
      "           2       0.22      0.20      0.21       271\n",
      "           3       0.25      0.23      0.24       271\n",
      "\n",
      "    accuracy                           0.23      1084\n",
      "   macro avg       0.23      0.23      0.23      1084\n",
      "weighted avg       0.23      0.23      0.23      1084\n",
      "\n"
     ]
    }
   ],
   "source": [
    "from sklearn.metrics import classification_report,confusion_matrix\n",
    "predictions = model.predict(test_set, verbose=0)\n",
    "\n",
    "\n",
    "print(classification_report( y_val, predictions.argmax(axis=1)))"
   ]
  },
  {
   "cell_type": "code",
   "execution_count": null,
   "id": "a30e17c9",
   "metadata": {
    "executionInfo": {
     "elapsed": 3156,
     "status": "ok",
     "timestamp": 1648644718476,
     "user": {
      "displayName": "Tobi",
      "userId": "06343529474612864282"
     },
     "user_tz": -60
    },
    "id": "Y2hAfOXROTnt",
    "outputId": "b950c54b-8046-4eb7-e74e-4a2ce6b1e9bc",
    "papermill": {
     "duration": 0.824762,
     "end_time": "2022-03-31T16:54:11.646685",
     "exception": false,
     "start_time": "2022-03-31T16:54:10.821923",
     "status": "completed"
    },
    "tags": []
   },
   "outputs": [],
   "source": []
  },
  {
   "cell_type": "code",
   "execution_count": null,
   "id": "69495cb1",
   "metadata": {
    "executionInfo": {
     "elapsed": 34,
     "status": "ok",
     "timestamp": 1648644718477,
     "user": {
      "displayName": "Tobi",
      "userId": "06343529474612864282"
     },
     "user_tz": -60
    },
    "id": "UArDKm2LOTrR",
    "papermill": {
     "duration": 0.797661,
     "end_time": "2022-03-31T16:54:13.240487",
     "exception": false,
     "start_time": "2022-03-31T16:54:12.442826",
     "status": "completed"
    },
    "tags": []
   },
   "outputs": [],
   "source": []
  },
  {
   "cell_type": "markdown",
   "id": "2a769b9f",
   "metadata": {
    "id": "8WrXe0ieyjqD",
    "papermill": {
     "duration": 0.786892,
     "end_time": "2022-03-31T16:54:14.815509",
     "exception": false,
     "start_time": "2022-03-31T16:54:14.028617",
     "status": "completed"
    },
    "tags": []
   },
   "source": []
  }
 ],
 "metadata": {
  "kernelspec": {
   "display_name": "Python 3",
   "language": "python",
   "name": "python3"
  },
  "language_info": {
   "codemirror_mode": {
    "name": "ipython",
    "version": 3
   },
   "file_extension": ".py",
   "mimetype": "text/x-python",
   "name": "python",
   "nbconvert_exporter": "python",
   "pygments_lexer": "ipython3",
   "version": "3.7.12"
  },
  "papermill": {
   "default_parameters": {},
   "duration": 1265.18926,
   "end_time": "2022-03-31T16:54:18.490025",
   "environment_variables": {},
   "exception": null,
   "input_path": "__notebook__.ipynb",
   "output_path": "__notebook__.ipynb",
   "parameters": {},
   "start_time": "2022-03-31T16:33:13.300765",
   "version": "2.3.3"
  }
 },
 "nbformat": 4,
 "nbformat_minor": 5
}
