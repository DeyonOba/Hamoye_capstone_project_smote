{
  "nbformat": 4,
  "nbformat_minor": 0,
  "metadata": {
    "colab": {
      "name": "african_wildlife_yolov5.ipynb",
      "provenance": [],
      "collapsed_sections": []
    },
    "kernelspec": {
      "name": "python3",
      "display_name": "Python 3"
    },
    "language_info": {
      "name": "python"
    },
    "accelerator": "GPU"
  },
  "cells": [
    {
      "cell_type": "code",
      "source": [
        "!nvidia-smi"
      ],
      "metadata": {
        "colab": {
          "base_uri": "https://localhost:8080/"
        },
        "id": "bvAGRXuNJDkJ",
        "outputId": "df858d7a-a664-4683-cd02-0694f84be3c9"
      },
      "execution_count": null,
      "outputs": [
        {
          "output_type": "stream",
          "name": "stdout",
          "text": [
            "Sat Apr  2 03:01:08 2022       \n",
            "+-----------------------------------------------------------------------------+\n",
            "| NVIDIA-SMI 460.32.03    Driver Version: 460.32.03    CUDA Version: 11.2     |\n",
            "|-------------------------------+----------------------+----------------------+\n",
            "| GPU  Name        Persistence-M| Bus-Id        Disp.A | Volatile Uncorr. ECC |\n",
            "| Fan  Temp  Perf  Pwr:Usage/Cap|         Memory-Usage | GPU-Util  Compute M. |\n",
            "|                               |                      |               MIG M. |\n",
            "|===============================+======================+======================|\n",
            "|   0  Tesla K80           Off  | 00000000:00:04.0 Off |                    0 |\n",
            "| N/A   37C    P8    27W / 149W |      0MiB / 11441MiB |      0%      Default |\n",
            "|                               |                      |                  N/A |\n",
            "+-------------------------------+----------------------+----------------------+\n",
            "                                                                               \n",
            "+-----------------------------------------------------------------------------+\n",
            "| Processes:                                                                  |\n",
            "|  GPU   GI   CI        PID   Type   Process name                  GPU Memory |\n",
            "|        ID   ID                                                   Usage      |\n",
            "|=============================================================================|\n",
            "|  No running processes found                                                 |\n",
            "+-----------------------------------------------------------------------------+\n"
          ]
        }
      ]
    },
    {
      "cell_type": "code",
      "execution_count": null,
      "metadata": {
        "id": "ZSujXeeqFf9q",
        "colab": {
          "base_uri": "https://localhost:8080/",
          "height": 52
        },
        "outputId": "10ff0d8d-6cce-4cae-ad8d-2f58456f14a2"
      },
      "outputs": [
        {
          "output_type": "stream",
          "name": "stdout",
          "text": [
            "Mounted at /content/gdrive\n"
          ]
        },
        {
          "output_type": "display_data",
          "data": {
            "application/javascript": [
              "IPython.notebook.set_autosave_interval(1000)"
            ]
          },
          "metadata": {}
        },
        {
          "output_type": "stream",
          "name": "stdout",
          "text": [
            "Autosaving every 1 seconds\n"
          ]
        }
      ],
      "source": [
        "from google.colab import drive\n",
        "drive.mount('/content/gdrive',force_remount = True)\n",
        "\n",
        "import sys\n",
        "sys.path.append('/content/gdrive/My Drive/Colab Notebooks')\n",
        "\n",
        "%autosave 1 "
      ]
    },
    {
      "cell_type": "code",
      "source": [
        "#clone YOLOv5 and \n",
        "!git clone https://github.com/ultralytics/yolov5  # clone repo\n",
        "%cd yolov5\n",
        "%pip install -qr requirements.txt # install dependencies\n",
        "\n",
        "import torch\n",
        "import os\n",
        "from IPython.display import Image, clear_output  # to display images\n",
        "\n",
        "print(f\"Setup complete. Using torch {torch.__version__} ({torch.cuda.get_device_properties(0).name if torch.cuda.is_available() else 'CPU'})\")"
      ],
      "metadata": {
        "id": "JTR0ZjLHF0Nw",
        "colab": {
          "base_uri": "https://localhost:8080/"
        },
        "outputId": "ccd07e2f-481d-4020-ad97-77507f8ae155"
      },
      "execution_count": null,
      "outputs": [
        {
          "output_type": "stream",
          "name": "stdout",
          "text": [
            "Cloning into 'yolov5'...\n",
            "remote: Enumerating objects: 12394, done.\u001b[K\n",
            "remote: Total 12394 (delta 0), reused 0 (delta 0), pack-reused 12394\u001b[K\n",
            "Receiving objects: 100% (12394/12394), 11.57 MiB | 24.57 MiB/s, done.\n",
            "Resolving deltas: 100% (8627/8627), done.\n",
            "/content/yolov5\n",
            "\u001b[K     |████████████████████████████████| 596 kB 5.4 MB/s \n",
            "\u001b[?25hSetup complete. Using torch 1.10.0+cu111 (Tesla K80)\n"
          ]
        }
      ]
    },
    {
      "cell_type": "code",
      "source": [
        "import multiprocessing\n",
        "multiprocessing.cpu_count()"
      ],
      "metadata": {
        "colab": {
          "base_uri": "https://localhost:8080/"
        },
        "id": "nISZAR3Kataz",
        "outputId": "9161bbf7-2940-4899-8bbf-af71c0a2c588"
      },
      "execution_count": null,
      "outputs": [
        {
          "output_type": "execute_result",
          "data": {
            "text/plain": [
              "2"
            ]
          },
          "metadata": {},
          "execution_count": 4
        }
      ]
    },
    {
      "cell_type": "code",
      "source": [
        "!python train.py --img 256 --batch 2 --epochs 50 --data african_wildlife.yaml --weights yolov5x6.pt --workers 2  --cache"
      ],
      "metadata": {
        "colab": {
          "base_uri": "https://localhost:8080/"
        },
        "id": "NEzgCE2jGRhY",
        "outputId": "d6ee659f-7e33-4b65-fc6e-5fae47d7c11c"
      },
      "execution_count": null,
      "outputs": [
        {
          "output_type": "stream",
          "name": "stdout",
          "text": [
            "Downloading https://ultralytics.com/assets/Arial.ttf to /root/.config/Ultralytics/Arial.ttf...\n",
            "\u001b[34m\u001b[1mtrain: \u001b[0mweights=yolov5x6.pt, cfg=, data=african_wildlife.yaml, hyp=data/hyps/hyp.scratch-low.yaml, epochs=50, batch_size=2, imgsz=256, rect=False, resume=False, nosave=False, noval=False, noautoanchor=False, evolve=None, bucket=, cache=ram, image_weights=False, device=, multi_scale=False, single_cls=False, optimizer=SGD, sync_bn=False, workers=2, project=runs/train, name=exp, exist_ok=False, quad=False, cos_lr=False, label_smoothing=0.0, patience=100, freeze=[0], save_period=-1, local_rank=-1, entity=None, upload_dataset=False, bbox_interval=-1, artifact_alias=latest\n",
            "\u001b[34m\u001b[1mgithub: \u001b[0mup to date with https://github.com/ultralytics/yolov5 ✅\n",
            "YOLOv5 🚀 v6.1-83-g37675e1 torch 1.10.0+cu111 CUDA:0 (Tesla K80, 11441MiB)\n",
            "\n",
            "\u001b[34m\u001b[1mhyperparameters: \u001b[0mlr0=0.01, lrf=0.01, momentum=0.937, weight_decay=0.0005, warmup_epochs=3.0, warmup_momentum=0.8, warmup_bias_lr=0.1, box=0.05, cls=0.5, cls_pw=1.0, obj=1.0, obj_pw=1.0, iou_t=0.2, anchor_t=4.0, fl_gamma=0.0, hsv_h=0.015, hsv_s=0.7, hsv_v=0.4, degrees=0.0, translate=0.1, scale=0.5, shear=0.0, perspective=0.0, flipud=0.0, fliplr=0.5, mosaic=1.0, mixup=0.0, copy_paste=0.0\n",
            "\u001b[34m\u001b[1mWeights & Biases: \u001b[0mrun 'pip install wandb' to automatically track and visualize YOLOv5 🚀 runs (RECOMMENDED)\n",
            "\u001b[34m\u001b[1mTensorBoard: \u001b[0mStart with 'tensorboard --logdir runs/train', view at http://localhost:6006/\n",
            "Downloading https://github.com/ultralytics/yolov5/releases/download/v6.1/yolov5x6.pt to yolov5x6.pt...\n",
            "100% 270M/270M [00:03<00:00, 78.8MB/s]\n",
            "\n",
            "Overriding model.yaml nc=80 with nc=4\n",
            "\n",
            "                 from  n    params  module                                  arguments                     \n",
            "  0                -1  1      8800  models.common.Conv                      [3, 80, 6, 2, 2]              \n",
            "  1                -1  1    115520  models.common.Conv                      [80, 160, 3, 2]               \n",
            "  2                -1  4    309120  models.common.C3                        [160, 160, 4]                 \n",
            "  3                -1  1    461440  models.common.Conv                      [160, 320, 3, 2]              \n",
            "  4                -1  8   2259200  models.common.C3                        [320, 320, 8]                 \n",
            "  5                -1  1   1844480  models.common.Conv                      [320, 640, 3, 2]              \n",
            "  6                -1 12  13125120  models.common.C3                        [640, 640, 12]                \n",
            "  7                -1  1   5531520  models.common.Conv                      [640, 960, 3, 2]              \n",
            "  8                -1  4  11070720  models.common.C3                        [960, 960, 4]                 \n",
            "  9                -1  1  11061760  models.common.Conv                      [960, 1280, 3, 2]             \n",
            " 10                -1  4  19676160  models.common.C3                        [1280, 1280, 4]               \n",
            " 11                -1  1   4099840  models.common.SPPF                      [1280, 1280, 5]               \n",
            " 12                -1  1   1230720  models.common.Conv                      [1280, 960, 1, 1]             \n",
            " 13                -1  1         0  torch.nn.modules.upsampling.Upsample    [None, 2, 'nearest']          \n",
            " 14           [-1, 8]  1         0  models.common.Concat                    [1]                           \n",
            " 15                -1  4  11992320  models.common.C3                        [1920, 960, 4, False]         \n",
            " 16                -1  1    615680  models.common.Conv                      [960, 640, 1, 1]              \n",
            " 17                -1  1         0  torch.nn.modules.upsampling.Upsample    [None, 2, 'nearest']          \n",
            " 18           [-1, 6]  1         0  models.common.Concat                    [1]                           \n",
            " 19                -1  4   5332480  models.common.C3                        [1280, 640, 4, False]         \n",
            " 20                -1  1    205440  models.common.Conv                      [640, 320, 1, 1]              \n",
            " 21                -1  1         0  torch.nn.modules.upsampling.Upsample    [None, 2, 'nearest']          \n",
            " 22           [-1, 4]  1         0  models.common.Concat                    [1]                           \n",
            " 23                -1  4   1335040  models.common.C3                        [640, 320, 4, False]          \n",
            " 24                -1  1    922240  models.common.Conv                      [320, 320, 3, 2]              \n",
            " 25          [-1, 20]  1         0  models.common.Concat                    [1]                           \n",
            " 26                -1  4   4922880  models.common.C3                        [640, 640, 4, False]          \n",
            " 27                -1  1   3687680  models.common.Conv                      [640, 640, 3, 2]              \n",
            " 28          [-1, 16]  1         0  models.common.Concat                    [1]                           \n",
            " 29                -1  4  11377920  models.common.C3                        [1280, 960, 4, False]         \n",
            " 30                -1  1   8296320  models.common.Conv                      [960, 960, 3, 2]              \n",
            " 31          [-1, 12]  1         0  models.common.Concat                    [1]                           \n",
            " 32                -1  4  20495360  models.common.C3                        [1920, 1280, 4, False]        \n",
            " 33  [23, 26, 29, 32]  1     86508  models.yolo.Detect                      [4, [[19, 27, 44, 40, 38, 94], [96, 68, 86, 152, 180, 137], [140, 301, 303, 264, 238, 542], [436, 615, 739, 380, 925, 792]], [320, 640, 960, 1280]]\n",
            "Model summary: 733 layers, 140064268 parameters, 140064268 gradients, 208.4 GFLOPs\n",
            "\n",
            "Transferred 955/963 items from yolov5x6.pt\n",
            "Scaled weight_decay = 0.0005\n",
            "\u001b[34m\u001b[1moptimizer:\u001b[0m SGD with parameter groups 159 weight (no decay), 163 weight, 163 bias\n",
            "\u001b[34m\u001b[1malbumentations: \u001b[0mversion 1.0.3 required by YOLOv5, but version 0.1.12 is currently installed\n",
            "\u001b[34m\u001b[1mtrain: \u001b[0mScanning '/content/gdrive/MyDrive/Datasets/african_wildlife/train_val/train/labels/buffalo.cache' images and labels... 1191 found, 0 missing, 0 empty, 0 corrupt: 100% 1191/1191 [00:00<?, ?it/s]\n",
            "\u001b[34m\u001b[1mtrain: \u001b[0mWARNING: /content/gdrive/MyDrive/Datasets/african_wildlife/train_val/train/images/buffalo/054.jpg: corrupt JPEG restored and saved\n",
            "\u001b[34m\u001b[1mtrain: \u001b[0mWARNING: /content/gdrive/MyDrive/Datasets/african_wildlife/train_val/train/images/rhino/033.jpg: corrupt JPEG restored and saved\n",
            "\u001b[34m\u001b[1mtrain: \u001b[0mWARNING: /content/gdrive/MyDrive/Datasets/african_wildlife/train_val/train/images/rhino/037.jpg: corrupt JPEG restored and saved\n",
            "\u001b[34m\u001b[1mtrain: \u001b[0mCaching images (0.2GB ram): 100% 1191/1191 [06:09<00:00,  3.22it/s]\n",
            "\u001b[34m\u001b[1mval: \u001b[0mScanning '/content/gdrive/MyDrive/Datasets/african_wildlife/train_val/val/labels/buffalo.cache' images and labels... 313 found, 0 missing, 0 empty, 0 corrupt: 100% 313/313 [00:00<?, ?it/s]\n",
            "\u001b[34m\u001b[1mval: \u001b[0mWARNING: /content/gdrive/MyDrive/Datasets/african_wildlife/train_val/val/images/zebra/315.jpg: corrupt JPEG restored and saved\n",
            "\u001b[34m\u001b[1mval: \u001b[0mCaching images (0.0GB ram): 100% 313/313 [02:17<00:00,  2.28it/s]\n",
            "Plotting labels to runs/train/exp/labels.jpg... \n",
            "\n",
            "\u001b[34m\u001b[1mAutoAnchor: \u001b[0m6.10 anchors/target, 1.000 Best Possible Recall (BPR). Current anchors are a good fit to dataset ✅\n",
            "Image sizes 256 train, 256 val\n",
            "Using 2 dataloader workers\n",
            "Logging results to \u001b[1mruns/train/exp\u001b[0m\n",
            "Starting training for 50 epochs...\n",
            "\n",
            "     Epoch   gpu_mem       box       obj       cls    labels  img_size\n",
            "      0/49     2.94G     0.064   0.02231   0.03529         3       256: 100% 596/596 [04:46<00:00,  2.08it/s]\n",
            "               Class     Images     Labels          P          R     mAP@.5 mAP@.5:.95: 100% 79/79 [00:17<00:00,  4.62it/s]\n",
            "                 all        313        552      0.189       0.25      0.182     0.0642\n",
            "\n",
            "     Epoch   gpu_mem       box       obj       cls    labels  img_size\n",
            "      1/49      3.3G   0.04984     0.018   0.02733         4       256: 100% 596/596 [04:26<00:00,  2.23it/s]\n",
            "               Class     Images     Labels          P          R     mAP@.5 mAP@.5:.95: 100% 79/79 [00:16<00:00,  4.70it/s]\n",
            "                 all        313        552      0.346       0.65      0.436      0.152\n",
            "\n",
            "     Epoch   gpu_mem       box       obj       cls    labels  img_size\n",
            "      2/49      3.3G   0.04799   0.01621   0.02139         3       256: 100% 596/596 [04:25<00:00,  2.25it/s]\n",
            "               Class     Images     Labels          P          R     mAP@.5 mAP@.5:.95: 100% 79/79 [00:16<00:00,  4.73it/s]\n",
            "                 all        313        552      0.469      0.658      0.482      0.165\n",
            "\n",
            "     Epoch   gpu_mem       box       obj       cls    labels  img_size\n",
            "      3/49      3.3G   0.04247   0.01561   0.01591         2       256: 100% 596/596 [04:24<00:00,  2.25it/s]\n",
            "               Class     Images     Labels          P          R     mAP@.5 mAP@.5:.95: 100% 79/79 [00:16<00:00,  4.71it/s]\n",
            "                 all        313        552      0.757      0.813      0.807      0.453\n",
            "\n",
            "     Epoch   gpu_mem       box       obj       cls    labels  img_size\n",
            "      4/49      3.3G   0.03606    0.0158   0.01382         6       256: 100% 596/596 [04:24<00:00,  2.26it/s]\n",
            "               Class     Images     Labels          P          R     mAP@.5 mAP@.5:.95: 100% 79/79 [00:16<00:00,  4.72it/s]\n",
            "                 all        313        552      0.798      0.813      0.863      0.548\n",
            "\n",
            "     Epoch   gpu_mem       box       obj       cls    labels  img_size\n",
            "      5/49      3.3G   0.03209   0.01497   0.01135         4       256: 100% 596/596 [04:24<00:00,  2.25it/s]\n",
            "               Class     Images     Labels          P          R     mAP@.5 mAP@.5:.95: 100% 79/79 [00:16<00:00,  4.71it/s]\n",
            "                 all        313        552      0.821      0.862      0.884      0.545\n",
            "\n",
            "     Epoch   gpu_mem       box       obj       cls    labels  img_size\n",
            "      6/49      3.3G    0.0293   0.01467   0.01032         4       256: 100% 596/596 [04:24<00:00,  2.25it/s]\n",
            "               Class     Images     Labels          P          R     mAP@.5 mAP@.5:.95: 100% 79/79 [00:16<00:00,  4.73it/s]\n",
            "                 all        313        552      0.908      0.841      0.903      0.601\n",
            "\n",
            "     Epoch   gpu_mem       box       obj       cls    labels  img_size\n",
            "      7/49      3.3G   0.02842   0.01492    0.0104         5       256: 100% 596/596 [04:24<00:00,  2.25it/s]\n",
            "               Class     Images     Labels          P          R     mAP@.5 mAP@.5:.95: 100% 79/79 [00:16<00:00,  4.72it/s]\n",
            "                 all        313        552      0.932      0.861      0.914      0.589\n",
            "\n",
            "     Epoch   gpu_mem       box       obj       cls    labels  img_size\n",
            "      8/49      3.3G   0.02759   0.01458  0.009467         4       256: 100% 596/596 [04:24<00:00,  2.25it/s]\n",
            "               Class     Images     Labels          P          R     mAP@.5 mAP@.5:.95: 100% 79/79 [00:16<00:00,  4.71it/s]\n",
            "                 all        313        552      0.918      0.883      0.926      0.607\n",
            "\n",
            "     Epoch   gpu_mem       box       obj       cls    labels  img_size\n",
            "      9/49      3.3G    0.0258   0.01402  0.008862         3       256: 100% 596/596 [04:25<00:00,  2.25it/s]\n",
            "               Class     Images     Labels          P          R     mAP@.5 mAP@.5:.95: 100% 79/79 [00:16<00:00,  4.73it/s]\n",
            "                 all        313        552      0.907      0.865      0.908      0.674\n",
            "\n",
            "     Epoch   gpu_mem       box       obj       cls    labels  img_size\n",
            "     10/49      3.3G   0.02483   0.01406   0.00817         3       256: 100% 596/596 [04:24<00:00,  2.26it/s]\n",
            "               Class     Images     Labels          P          R     mAP@.5 mAP@.5:.95: 100% 79/79 [00:16<00:00,  4.72it/s]\n",
            "                 all        313        552      0.917      0.876      0.922      0.641\n",
            "\n",
            "     Epoch   gpu_mem       box       obj       cls    labels  img_size\n",
            "     11/49      3.3G   0.02422   0.01364  0.007717         3       256: 100% 596/596 [04:24<00:00,  2.26it/s]\n",
            "               Class     Images     Labels          P          R     mAP@.5 mAP@.5:.95: 100% 79/79 [00:16<00:00,  4.72it/s]\n",
            "                 all        313        552      0.919      0.873      0.921      0.662\n",
            "\n",
            "     Epoch   gpu_mem       box       obj       cls    labels  img_size\n",
            "     12/49      3.3G   0.02303   0.01349  0.007695         3       256: 100% 596/596 [04:25<00:00,  2.25it/s]\n",
            "               Class     Images     Labels          P          R     mAP@.5 mAP@.5:.95: 100% 79/79 [00:16<00:00,  4.70it/s]\n",
            "                 all        313        552       0.91      0.899       0.93      0.698\n",
            "\n",
            "     Epoch   gpu_mem       box       obj       cls    labels  img_size\n",
            "     13/49     3.32G   0.02277   0.01321  0.006437         3       256: 100% 596/596 [04:25<00:00,  2.24it/s]\n",
            "               Class     Images     Labels          P          R     mAP@.5 mAP@.5:.95: 100% 79/79 [00:16<00:00,  4.68it/s]\n",
            "                 all        313        552      0.913      0.885      0.933      0.667\n",
            "\n",
            "     Epoch   gpu_mem       box       obj       cls    labels  img_size\n",
            "     14/49     3.32G   0.02259   0.01318  0.005808         4       256: 100% 596/596 [04:24<00:00,  2.25it/s]\n",
            "               Class     Images     Labels          P          R     mAP@.5 mAP@.5:.95: 100% 79/79 [00:16<00:00,  4.70it/s]\n",
            "                 all        313        552      0.941      0.879      0.934      0.704\n",
            "\n",
            "     Epoch   gpu_mem       box       obj       cls    labels  img_size\n",
            "     15/49     3.32G   0.02158    0.0128  0.006123         7       256: 100% 596/596 [04:24<00:00,  2.25it/s]\n",
            "               Class     Images     Labels          P          R     mAP@.5 mAP@.5:.95: 100% 79/79 [00:16<00:00,  4.72it/s]\n",
            "                 all        313        552      0.915      0.879      0.926      0.694\n",
            "\n",
            "     Epoch   gpu_mem       box       obj       cls    labels  img_size\n",
            "     16/49     3.32G   0.02107   0.01267  0.006008         8       256: 100% 596/596 [04:24<00:00,  2.25it/s]\n",
            "               Class     Images     Labels          P          R     mAP@.5 mAP@.5:.95: 100% 79/79 [00:16<00:00,  4.72it/s]\n",
            "                 all        313        552      0.903       0.87      0.922      0.684\n",
            "\n",
            "     Epoch   gpu_mem       box       obj       cls    labels  img_size\n",
            "     17/49     3.32G   0.02031   0.01234  0.005487         5       256: 100% 596/596 [04:24<00:00,  2.25it/s]\n",
            "               Class     Images     Labels          P          R     mAP@.5 mAP@.5:.95: 100% 79/79 [00:16<00:00,  4.68it/s]\n",
            "                 all        313        552       0.92      0.892      0.935      0.712\n",
            "\n",
            "     Epoch   gpu_mem       box       obj       cls    labels  img_size\n",
            "     18/49     3.32G   0.02018   0.01256  0.004865         3       256: 100% 596/596 [04:24<00:00,  2.26it/s]\n",
            "               Class     Images     Labels          P          R     mAP@.5 mAP@.5:.95: 100% 79/79 [00:16<00:00,  4.71it/s]\n",
            "                 all        313        552       0.91       0.89       0.92      0.705\n",
            "\n",
            "     Epoch   gpu_mem       box       obj       cls    labels  img_size\n",
            "     19/49     3.32G   0.01942   0.01216  0.005397         3       256: 100% 596/596 [04:24<00:00,  2.25it/s]\n",
            "               Class     Images     Labels          P          R     mAP@.5 mAP@.5:.95: 100% 79/79 [00:17<00:00,  4.63it/s]\n",
            "                 all        313        552      0.929      0.884      0.943      0.725\n",
            "\n",
            "     Epoch   gpu_mem       box       obj       cls    labels  img_size\n",
            "     20/49     3.32G   0.01967   0.01224  0.005289         2       256: 100% 596/596 [04:25<00:00,  2.25it/s]\n",
            "               Class     Images     Labels          P          R     mAP@.5 mAP@.5:.95: 100% 79/79 [00:16<00:00,  4.70it/s]\n",
            "                 all        313        552      0.928      0.896      0.938       0.74\n",
            "\n",
            "     Epoch   gpu_mem       box       obj       cls    labels  img_size\n",
            "     21/49     3.32G   0.01897   0.01212  0.005101         1       256: 100% 596/596 [04:25<00:00,  2.24it/s]\n",
            "               Class     Images     Labels          P          R     mAP@.5 mAP@.5:.95: 100% 79/79 [00:16<00:00,  4.69it/s]\n",
            "                 all        313        552      0.942      0.901      0.943      0.733\n",
            "\n",
            "     Epoch   gpu_mem       box       obj       cls    labels  img_size\n",
            "     22/49     3.32G   0.01832   0.01204  0.004412         1       256: 100% 596/596 [04:26<00:00,  2.24it/s]\n",
            "               Class     Images     Labels          P          R     mAP@.5 mAP@.5:.95: 100% 79/79 [00:16<00:00,  4.71it/s]\n",
            "                 all        313        552      0.928      0.899      0.935      0.718\n",
            "\n",
            "     Epoch   gpu_mem       box       obj       cls    labels  img_size\n",
            "     23/49     3.32G   0.01801   0.01149  0.004217         4       256: 100% 596/596 [04:26<00:00,  2.24it/s]\n",
            "               Class     Images     Labels          P          R     mAP@.5 mAP@.5:.95: 100% 79/79 [00:16<00:00,  4.68it/s]\n",
            "                 all        313        552      0.921      0.899      0.942      0.734\n",
            "\n",
            "     Epoch   gpu_mem       box       obj       cls    labels  img_size\n",
            "     24/49     3.32G   0.01804    0.0118  0.004452         5       256: 100% 596/596 [04:25<00:00,  2.25it/s]\n",
            "               Class     Images     Labels          P          R     mAP@.5 mAP@.5:.95: 100% 79/79 [00:16<00:00,  4.70it/s]\n",
            "                 all        313        552      0.928      0.889      0.937      0.737\n",
            "\n",
            "     Epoch   gpu_mem       box       obj       cls    labels  img_size\n",
            "     25/49     3.32G   0.01727   0.01166  0.003728         6       256: 100% 596/596 [04:25<00:00,  2.25it/s]\n",
            "               Class     Images     Labels          P          R     mAP@.5 mAP@.5:.95: 100% 79/79 [00:16<00:00,  4.67it/s]\n",
            "                 all        313        552      0.938      0.896       0.94      0.745\n",
            "\n",
            "     Epoch   gpu_mem       box       obj       cls    labels  img_size\n",
            "     26/49     3.32G   0.01713   0.01117  0.003478         6       256: 100% 596/596 [04:26<00:00,  2.23it/s]\n",
            "               Class     Images     Labels          P          R     mAP@.5 mAP@.5:.95: 100% 79/79 [00:16<00:00,  4.67it/s]\n",
            "                 all        313        552      0.922      0.915      0.942      0.746\n",
            "\n",
            "     Epoch   gpu_mem       box       obj       cls    labels  img_size\n",
            "     27/49     3.32G   0.01677   0.01122  0.003254         7       256: 100% 596/596 [04:25<00:00,  2.24it/s]\n",
            "               Class     Images     Labels          P          R     mAP@.5 mAP@.5:.95: 100% 79/79 [00:16<00:00,  4.71it/s]\n",
            "                 all        313        552      0.943        0.9      0.945      0.759\n",
            "\n",
            "     Epoch   gpu_mem       box       obj       cls    labels  img_size\n",
            "     28/49     3.32G   0.01612   0.01078  0.003166         9       256: 100% 596/596 [04:26<00:00,  2.24it/s]\n",
            "               Class     Images     Labels          P          R     mAP@.5 mAP@.5:.95: 100% 79/79 [00:16<00:00,  4.68it/s]\n",
            "                 all        313        552      0.921      0.903      0.943      0.763\n",
            "\n",
            "     Epoch   gpu_mem       box       obj       cls    labels  img_size\n",
            "     29/49     3.32G   0.01611   0.01109  0.003255         2       256: 100% 596/596 [04:27<00:00,  2.23it/s]\n",
            "               Class     Images     Labels          P          R     mAP@.5 mAP@.5:.95: 100% 79/79 [00:16<00:00,  4.68it/s]\n",
            "                 all        313        552      0.936      0.907      0.946      0.758\n",
            "\n",
            "     Epoch   gpu_mem       box       obj       cls    labels  img_size\n",
            "     30/49     3.32G   0.01576   0.01067  0.003139         7       256: 100% 596/596 [04:27<00:00,  2.23it/s]\n",
            "               Class     Images     Labels          P          R     mAP@.5 mAP@.5:.95: 100% 79/79 [00:16<00:00,  4.66it/s]\n",
            "                 all        313        552      0.921      0.911      0.944      0.762\n",
            "\n",
            "     Epoch   gpu_mem       box       obj       cls    labels  img_size\n",
            "     31/49     3.32G   0.01522   0.01038  0.003184         2       256: 100% 596/596 [04:26<00:00,  2.23it/s]\n",
            "               Class     Images     Labels          P          R     mAP@.5 mAP@.5:.95: 100% 79/79 [00:16<00:00,  4.68it/s]\n",
            "                 all        313        552      0.939      0.915      0.952      0.772\n",
            "\n",
            "     Epoch   gpu_mem       box       obj       cls    labels  img_size\n",
            "     32/49     3.32G   0.01469   0.01049  0.002894         5       256: 100% 596/596 [04:26<00:00,  2.24it/s]\n",
            "               Class     Images     Labels          P          R     mAP@.5 mAP@.5:.95: 100% 79/79 [00:16<00:00,  4.67it/s]\n",
            "                 all        313        552      0.938      0.918      0.951      0.769\n",
            "\n",
            "     Epoch   gpu_mem       box       obj       cls    labels  img_size\n",
            "     33/49     3.32G   0.01458   0.01037  0.002647         3       256: 100% 596/596 [04:26<00:00,  2.24it/s]\n",
            "               Class     Images     Labels          P          R     mAP@.5 mAP@.5:.95: 100% 79/79 [00:16<00:00,  4.71it/s]\n",
            "                 all        313        552      0.945      0.916      0.952      0.774\n",
            "\n",
            "     Epoch   gpu_mem       box       obj       cls    labels  img_size\n",
            "     34/49     3.32G   0.01406   0.01061  0.003375         6       256: 100% 596/596 [04:24<00:00,  2.25it/s]\n",
            "               Class     Images     Labels          P          R     mAP@.5 mAP@.5:.95: 100% 79/79 [00:16<00:00,  4.70it/s]\n",
            "                 all        313        552      0.932      0.917      0.949      0.769\n",
            "\n",
            "     Epoch   gpu_mem       box       obj       cls    labels  img_size\n",
            "     35/49     3.32G   0.01381   0.01042  0.002833         6       256: 100% 596/596 [04:25<00:00,  2.25it/s]\n",
            "               Class     Images     Labels          P          R     mAP@.5 mAP@.5:.95: 100% 79/79 [00:16<00:00,  4.71it/s]\n",
            "                 all        313        552      0.957      0.894      0.948      0.773\n",
            "\n",
            "     Epoch   gpu_mem       box       obj       cls    labels  img_size\n",
            "     36/49     3.32G    0.0136   0.01011  0.002736         5       256: 100% 596/596 [04:25<00:00,  2.25it/s]\n",
            "               Class     Images     Labels          P          R     mAP@.5 mAP@.5:.95: 100% 79/79 [00:16<00:00,  4.69it/s]\n",
            "                 all        313        552      0.953      0.902       0.95      0.773\n",
            "\n",
            "     Epoch   gpu_mem       box       obj       cls    labels  img_size\n",
            "     37/49     3.32G   0.01383   0.01008  0.002565         3       256: 100% 596/596 [04:25<00:00,  2.24it/s]\n",
            "               Class     Images     Labels          P          R     mAP@.5 mAP@.5:.95: 100% 79/79 [00:16<00:00,  4.69it/s]\n",
            "                 all        313        552      0.945      0.899      0.948      0.775\n",
            "\n",
            "     Epoch   gpu_mem       box       obj       cls    labels  img_size\n",
            "     38/49     3.32G   0.01332  0.009914  0.002675         4       256: 100% 596/596 [04:25<00:00,  2.25it/s]\n",
            "               Class     Images     Labels          P          R     mAP@.5 mAP@.5:.95: 100% 79/79 [00:16<00:00,  4.69it/s]\n",
            "                 all        313        552      0.942      0.904      0.946      0.774\n",
            "\n",
            "     Epoch   gpu_mem       box       obj       cls    labels  img_size\n",
            "     39/49     3.32G    0.0127  0.009756  0.002123         4       256: 100% 596/596 [04:25<00:00,  2.25it/s]\n",
            "               Class     Images     Labels          P          R     mAP@.5 mAP@.5:.95: 100% 79/79 [00:16<00:00,  4.68it/s]\n",
            "                 all        313        552      0.926       0.93       0.95      0.783\n",
            "\n",
            "     Epoch   gpu_mem       box       obj       cls    labels  img_size\n",
            "     40/49     3.32G   0.01257  0.009631  0.002221         2       256: 100% 596/596 [04:25<00:00,  2.24it/s]\n",
            "               Class     Images     Labels          P          R     mAP@.5 mAP@.5:.95: 100% 79/79 [00:16<00:00,  4.70it/s]\n",
            "                 all        313        552      0.947       0.91      0.953      0.784\n",
            "\n",
            "     Epoch   gpu_mem       box       obj       cls    labels  img_size\n",
            "     41/49     3.32G   0.01234  0.009562  0.002209         3       256: 100% 596/596 [04:25<00:00,  2.25it/s]\n",
            "               Class     Images     Labels          P          R     mAP@.5 mAP@.5:.95: 100% 79/79 [00:16<00:00,  4.69it/s]\n",
            "                 all        313        552      0.954      0.893      0.952      0.789\n",
            "\n",
            "     Epoch   gpu_mem       box       obj       cls    labels  img_size\n",
            "     42/49     3.32G   0.01168  0.009382  0.001969         7       256: 100% 596/596 [04:24<00:00,  2.25it/s]\n",
            "               Class     Images     Labels          P          R     mAP@.5 mAP@.5:.95: 100% 79/79 [00:16<00:00,  4.71it/s]\n",
            "                 all        313        552      0.939      0.925       0.95      0.787\n",
            "\n",
            "     Epoch   gpu_mem       box       obj       cls    labels  img_size\n",
            "     43/49     3.32G    0.0118  0.009522  0.002046         5       256: 100% 596/596 [04:25<00:00,  2.25it/s]\n",
            "               Class     Images     Labels          P          R     mAP@.5 mAP@.5:.95: 100% 79/79 [00:16<00:00,  4.71it/s]\n",
            "                 all        313        552       0.94      0.906      0.952      0.787\n",
            "\n",
            "     Epoch   gpu_mem       box       obj       cls    labels  img_size\n",
            "     44/49     3.32G   0.01137  0.009359  0.001736         4       256: 100% 596/596 [04:25<00:00,  2.25it/s]\n",
            "               Class     Images     Labels          P          R     mAP@.5 mAP@.5:.95: 100% 79/79 [00:16<00:00,  4.69it/s]\n",
            "                 all        313        552      0.927      0.931       0.95      0.786\n",
            "\n",
            "     Epoch   gpu_mem       box       obj       cls    labels  img_size\n",
            "     45/49     3.32G    0.0115  0.009293   0.00161         1       256: 100% 596/596 [04:25<00:00,  2.25it/s]\n",
            "               Class     Images     Labels          P          R     mAP@.5 mAP@.5:.95: 100% 79/79 [00:16<00:00,  4.70it/s]\n",
            "                 all        313        552      0.937      0.921      0.951      0.789\n",
            "\n",
            "     Epoch   gpu_mem       box       obj       cls    labels  img_size\n",
            "     46/49     3.32G   0.01078  0.008886   0.00146         6       256: 100% 596/596 [04:25<00:00,  2.25it/s]\n",
            "               Class     Images     Labels          P          R     mAP@.5 mAP@.5:.95: 100% 79/79 [00:16<00:00,  4.69it/s]\n",
            "                 all        313        552      0.944      0.918      0.953       0.79\n",
            "\n",
            "     Epoch   gpu_mem       box       obj       cls    labels  img_size\n",
            "     47/49     3.32G   0.01098  0.009381  0.001541         5       256: 100% 596/596 [04:25<00:00,  2.25it/s]\n",
            "               Class     Images     Labels          P          R     mAP@.5 mAP@.5:.95: 100% 79/79 [00:16<00:00,  4.70it/s]\n",
            "                 all        313        552      0.938      0.911       0.95      0.782\n",
            "\n",
            "     Epoch   gpu_mem       box       obj       cls    labels  img_size\n",
            "     48/49     3.32G   0.01039  0.008721  0.001453         7       256: 100% 596/596 [04:26<00:00,  2.24it/s]\n",
            "               Class     Images     Labels          P          R     mAP@.5 mAP@.5:.95: 100% 79/79 [00:16<00:00,  4.67it/s]\n",
            "                 all        313        552       0.92      0.935      0.952      0.792\n",
            "\n",
            "     Epoch   gpu_mem       box       obj       cls    labels  img_size\n",
            "     49/49     3.32G   0.01047  0.009008  0.001551         4       256: 100% 596/596 [04:27<00:00,  2.23it/s]\n",
            "               Class     Images     Labels          P          R     mAP@.5 mAP@.5:.95: 100% 79/79 [00:16<00:00,  4.68it/s]\n",
            "                 all        313        552      0.922      0.935      0.952      0.794\n",
            "\n",
            "50 epochs completed in 4.027 hours.\n",
            "Optimizer stripped from runs/train/exp/weights/last.pt, 280.8MB\n",
            "Optimizer stripped from runs/train/exp/weights/best.pt, 280.8MB\n",
            "\n",
            "Validating runs/train/exp/weights/best.pt...\n",
            "Fusing layers... \n",
            "Model summary: 574 layers, 139999708 parameters, 0 gradients, 208.2 GFLOPs\n",
            "               Class     Images     Labels          P          R     mAP@.5 mAP@.5:.95: 100% 79/79 [00:17<00:00,  4.47it/s]\n",
            "                 all        313        552      0.922      0.935      0.952      0.794\n",
            "             buffalo        313        145      0.942      0.896      0.945      0.781\n",
            "            elephant        313        135      0.868       0.97      0.969      0.794\n",
            "               rhino        313        113      0.955      0.965      0.959      0.835\n",
            "               zebra        313        159      0.923      0.911      0.935      0.767\n",
            "Results saved to \u001b[1mruns/train/exp\u001b[0m\n"
          ]
        }
      ]
    },
    {
      "cell_type": "code",
      "source": [
        ""
      ],
      "metadata": {
        "id": "MM-kEZYIGRfI"
      },
      "execution_count": null,
      "outputs": []
    },
    {
      "cell_type": "code",
      "source": [
        ""
      ],
      "metadata": {
        "id": "2lZnbq3uGRcx"
      },
      "execution_count": null,
      "outputs": []
    },
    {
      "cell_type": "code",
      "source": [
        ""
      ],
      "metadata": {
        "id": "8JoJEoN5GRaY"
      },
      "execution_count": null,
      "outputs": []
    },
    {
      "cell_type": "code",
      "source": [
        ""
      ],
      "metadata": {
        "id": "f2-jRa9lGRYA"
      },
      "execution_count": null,
      "outputs": []
    },
    {
      "cell_type": "code",
      "source": [
        ""
      ],
      "metadata": {
        "id": "m0v0avPhGRVg"
      },
      "execution_count": null,
      "outputs": []
    },
    {
      "cell_type": "code",
      "source": [
        ""
      ],
      "metadata": {
        "id": "jzukuxi9GRTB"
      },
      "execution_count": null,
      "outputs": []
    }
  ]
}