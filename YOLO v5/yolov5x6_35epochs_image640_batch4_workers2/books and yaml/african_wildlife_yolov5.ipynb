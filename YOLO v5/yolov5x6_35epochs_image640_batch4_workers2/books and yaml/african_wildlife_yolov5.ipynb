{
 "cells": [
  {
   "cell_type": "markdown",
   "metadata": {},
   "source": [
    "Checking the gpu "
   ]
  },
  {
   "cell_type": "code",
   "execution_count": 1,
   "metadata": {
    "colab": {
     "base_uri": "https://localhost:8080/"
    },
    "id": "bvAGRXuNJDkJ",
    "outputId": "fd19a3ba-c288-49d4-bb14-a8a889f57dcb",
    "scrolled": true
   },
   "outputs": [
    {
     "name": "stdout",
     "output_type": "stream",
     "text": [
      "Wed Apr  6 03:43:43 2022       \n",
      "+-----------------------------------------------------------------------------+\n",
      "| NVIDIA-SMI 460.32.03    Driver Version: 460.32.03    CUDA Version: 11.2     |\n",
      "|-------------------------------+----------------------+----------------------+\n",
      "| GPU  Name        Persistence-M| Bus-Id        Disp.A | Volatile Uncorr. ECC |\n",
      "| Fan  Temp  Perf  Pwr:Usage/Cap|         Memory-Usage | GPU-Util  Compute M. |\n",
      "|                               |                      |               MIG M. |\n",
      "|===============================+======================+======================|\n",
      "|   0  Tesla T4            Off  | 00000000:00:04.0 Off |                    0 |\n",
      "| N/A   64C    P8    12W /  70W |      0MiB / 15109MiB |      0%      Default |\n",
      "|                               |                      |                  N/A |\n",
      "+-------------------------------+----------------------+----------------------+\n",
      "                                                                               \n",
      "+-----------------------------------------------------------------------------+\n",
      "| Processes:                                                                  |\n",
      "|  GPU   GI   CI        PID   Type   Process name                  GPU Memory |\n",
      "|        ID   ID                                                   Usage      |\n",
      "|=============================================================================|\n",
      "|  No running processes found                                                 |\n",
      "+-----------------------------------------------------------------------------+\n"
     ]
    }
   ],
   "source": [
    "!nvidia-smi"
   ]
  },
  {
   "cell_type": "code",
   "execution_count": 2,
   "metadata": {
    "colab": {
     "base_uri": "https://localhost:8080/",
     "height": 52
    },
    "id": "ZSujXeeqFf9q",
    "outputId": "a49ca92a-258c-4a8e-82e9-2c1c868d08fd"
   },
   "outputs": [
    {
     "name": "stdout",
     "output_type": "stream",
     "text": [
      "Mounted at /content/gdrive\n"
     ]
    },
    {
     "data": {
      "application/javascript": [
       "IPython.notebook.set_autosave_interval(1000)"
      ]
     },
     "metadata": {},
     "output_type": "display_data"
    },
    {
     "name": "stdout",
     "output_type": "stream",
     "text": [
      "Autosaving every 1 seconds\n"
     ]
    }
   ],
   "source": [
    "from google.colab import drive\n",
    "drive.mount('/content/gdrive',force_remount = True)\n",
    "\n",
    "import sys\n",
    "sys.path.append('/content/gdrive/My Drive/Colab Notebooks')\n",
    "\n",
    "%autosave 1 "
   ]
  },
  {
   "cell_type": "code",
   "execution_count": 3,
   "metadata": {
    "colab": {
     "base_uri": "https://localhost:8080/"
    },
    "id": "JTR0ZjLHF0Nw",
    "outputId": "1b57f47f-ff54-4efb-f680-dc829db60d98"
   },
   "outputs": [
    {
     "name": "stdout",
     "output_type": "stream",
     "text": [
      "Cloning into 'yolov5'...\n",
      "remote: Enumerating objects: 12530, done.\u001b[K\n",
      "remote: Total 12530 (delta 0), reused 0 (delta 0), pack-reused 12530\u001b[K\n",
      "Receiving objects: 100% (12530/12530), 11.56 MiB | 32.80 MiB/s, done.\n",
      "Resolving deltas: 100% (8727/8727), done.\n",
      "/content/yolov5\n",
      "\u001b[K     |████████████████████████████████| 596 kB 5.1 MB/s \n",
      "\u001b[?25hSetup complete. Using torch 1.10.0+cu111 (Tesla T4)\n"
     ]
    }
   ],
   "source": [
    "#clone YOLOv5 and \n",
    "!git clone https://github.com/ultralytics/yolov5  # clone repo\n",
    "%cd yolov5\n",
    "%pip install -qr requirements.txt # install dependencies\n",
    "\n",
    "import torch\n",
    "import os\n",
    "from IPython.display import Image, clear_output  # to display images\n",
    "\n",
    "print(f\"Setup complete. Using torch {torch.__version__} ({torch.cuda.get_device_properties(0).name if torch.cuda.is_available() else 'CPU'})\")"
   ]
  },
  {
   "cell_type": "markdown",
   "metadata": {},
   "source": [
    "Checking the number of workers available for training more the workers fast the training will be "
   ]
  },
  {
   "cell_type": "code",
   "execution_count": 4,
   "metadata": {
    "colab": {
     "base_uri": "https://localhost:8080/"
    },
    "id": "nISZAR3Kataz",
    "outputId": "439868c8-147a-4fbe-fcfe-6b18d32fba1d"
   },
   "outputs": [
    {
     "data": {
      "text/plain": [
       "2"
      ]
     },
     "execution_count": 4,
     "metadata": {},
     "output_type": "execute_result"
    }
   ],
   "source": [
    "import multiprocessing\n",
    "multiprocessing.cpu_count()"
   ]
  },
  {
   "cell_type": "markdown",
   "metadata": {},
   "source": [
    "Training the model with image size as 640 with batch of 4 and upto 35 epochs with 2 workers "
   ]
  },
  {
   "cell_type": "code",
   "execution_count": 5,
   "metadata": {
    "colab": {
     "base_uri": "https://localhost:8080/"
    },
    "id": "NEzgCE2jGRhY",
    "outputId": "95ae0371-42ef-402e-9e61-2ff5affaa601",
    "scrolled": false
   },
   "outputs": [
    {
     "name": "stdout",
     "output_type": "stream",
     "text": [
      "Downloading https://ultralytics.com/assets/Arial.ttf to /root/.config/Ultralytics/Arial.ttf...\n",
      "\u001b[34m\u001b[1mtrain: \u001b[0mweights=yolov5x6.pt, cfg=, data=african_wildlife.yaml, hyp=data/hyps/hyp.scratch-low.yaml, epochs=35, batch_size=4, imgsz=640, rect=False, resume=False, nosave=False, noval=False, noautoanchor=False, evolve=None, bucket=, cache=ram, image_weights=False, device=, multi_scale=False, single_cls=False, optimizer=SGD, sync_bn=False, workers=2, project=runs/train, name=exp, exist_ok=False, quad=False, cos_lr=False, label_smoothing=0.0, patience=100, freeze=[0], save_period=-1, local_rank=-1, entity=None, upload_dataset=False, bbox_interval=-1, artifact_alias=latest\n",
      "\u001b[34m\u001b[1mgithub: \u001b[0mup to date with https://github.com/ultralytics/yolov5 ✅\n",
      "YOLOv5 🚀 v6.1-105-gd257c75 torch 1.10.0+cu111 CUDA:0 (Tesla T4, 15110MiB)\n",
      "\n",
      "\u001b[34m\u001b[1mhyperparameters: \u001b[0mlr0=0.01, lrf=0.01, momentum=0.937, weight_decay=0.0005, warmup_epochs=3.0, warmup_momentum=0.8, warmup_bias_lr=0.1, box=0.05, cls=0.5, cls_pw=1.0, obj=1.0, obj_pw=1.0, iou_t=0.2, anchor_t=4.0, fl_gamma=0.0, hsv_h=0.015, hsv_s=0.7, hsv_v=0.4, degrees=0.0, translate=0.1, scale=0.5, shear=0.0, perspective=0.0, flipud=0.0, fliplr=0.5, mosaic=1.0, mixup=0.0, copy_paste=0.0\n",
      "\u001b[34m\u001b[1mWeights & Biases: \u001b[0mrun 'pip install wandb' to automatically track and visualize YOLOv5 🚀 runs (RECOMMENDED)\n",
      "\u001b[34m\u001b[1mTensorBoard: \u001b[0mStart with 'tensorboard --logdir runs/train', view at http://localhost:6006/\n",
      "Downloading https://github.com/ultralytics/yolov5/releases/download/v6.1/yolov5x6.pt to yolov5x6.pt...\n",
      "100% 270M/270M [00:05<00:00, 52.7MB/s]\n",
      "\n",
      "Overriding model.yaml nc=80 with nc=4\n",
      "\n",
      "                 from  n    params  module                                  arguments                     \n",
      "  0                -1  1      8800  models.common.Conv                      [3, 80, 6, 2, 2]              \n",
      "  1                -1  1    115520  models.common.Conv                      [80, 160, 3, 2]               \n",
      "  2                -1  4    309120  models.common.C3                        [160, 160, 4]                 \n",
      "  3                -1  1    461440  models.common.Conv                      [160, 320, 3, 2]              \n",
      "  4                -1  8   2259200  models.common.C3                        [320, 320, 8]                 \n",
      "  5                -1  1   1844480  models.common.Conv                      [320, 640, 3, 2]              \n",
      "  6                -1 12  13125120  models.common.C3                        [640, 640, 12]                \n",
      "  7                -1  1   5531520  models.common.Conv                      [640, 960, 3, 2]              \n",
      "  8                -1  4  11070720  models.common.C3                        [960, 960, 4]                 \n",
      "  9                -1  1  11061760  models.common.Conv                      [960, 1280, 3, 2]             \n",
      " 10                -1  4  19676160  models.common.C3                        [1280, 1280, 4]               \n",
      " 11                -1  1   4099840  models.common.SPPF                      [1280, 1280, 5]               \n",
      " 12                -1  1   1230720  models.common.Conv                      [1280, 960, 1, 1]             \n",
      " 13                -1  1         0  torch.nn.modules.upsampling.Upsample    [None, 2, 'nearest']          \n",
      " 14           [-1, 8]  1         0  models.common.Concat                    [1]                           \n",
      " 15                -1  4  11992320  models.common.C3                        [1920, 960, 4, False]         \n",
      " 16                -1  1    615680  models.common.Conv                      [960, 640, 1, 1]              \n",
      " 17                -1  1         0  torch.nn.modules.upsampling.Upsample    [None, 2, 'nearest']          \n",
      " 18           [-1, 6]  1         0  models.common.Concat                    [1]                           \n",
      " 19                -1  4   5332480  models.common.C3                        [1280, 640, 4, False]         \n",
      " 20                -1  1    205440  models.common.Conv                      [640, 320, 1, 1]              \n",
      " 21                -1  1         0  torch.nn.modules.upsampling.Upsample    [None, 2, 'nearest']          \n",
      " 22           [-1, 4]  1         0  models.common.Concat                    [1]                           \n",
      " 23                -1  4   1335040  models.common.C3                        [640, 320, 4, False]          \n",
      " 24                -1  1    922240  models.common.Conv                      [320, 320, 3, 2]              \n",
      " 25          [-1, 20]  1         0  models.common.Concat                    [1]                           \n",
      " 26                -1  4   4922880  models.common.C3                        [640, 640, 4, False]          \n",
      " 27                -1  1   3687680  models.common.Conv                      [640, 640, 3, 2]              \n",
      " 28          [-1, 16]  1         0  models.common.Concat                    [1]                           \n",
      " 29                -1  4  11377920  models.common.C3                        [1280, 960, 4, False]         \n",
      " 30                -1  1   8296320  models.common.Conv                      [960, 960, 3, 2]              \n",
      " 31          [-1, 12]  1         0  models.common.Concat                    [1]                           \n",
      " 32                -1  4  20495360  models.common.C3                        [1920, 1280, 4, False]        \n",
      " 33  [23, 26, 29, 32]  1     86508  models.yolo.Detect                      [4, [[19, 27, 44, 40, 38, 94], [96, 68, 86, 152, 180, 137], [140, 301, 303, 264, 238, 542], [436, 615, 739, 380, 925, 792]], [320, 640, 960, 1280]]\n",
      "Model summary: 733 layers, 140064268 parameters, 140064268 gradients, 208.4 GFLOPs\n",
      "\n",
      "Transferred 955/963 items from yolov5x6.pt\n",
      "Scaled weight_decay = 0.0005\n",
      "\u001b[34m\u001b[1moptimizer:\u001b[0m SGD with parameter groups 159 weight (no decay), 163 weight, 163 bias\n",
      "\u001b[34m\u001b[1malbumentations: \u001b[0mversion 1.0.3 required by YOLOv5, but version 0.1.12 is currently installed\n",
      "\u001b[34m\u001b[1mtrain: \u001b[0mScanning '/content/gdrive/MyDrive/Datasets/train_val/train/labels/buffalo.cache' images and labels... 1191 found, 0 missing, 0 empty, 0 corrupt: 100% 1191/1191 [00:00<?, ?it/s]\n",
      "\u001b[34m\u001b[1mtrain: \u001b[0mCaching images (1.0GB ram): 100% 1191/1191 [05:14<00:00,  3.78it/s]\n",
      "\u001b[34m\u001b[1mval: \u001b[0mScanning '/content/gdrive/MyDrive/Datasets/train_val/val/labels/buffalo.cache' images and labels... 313 found, 0 missing, 0 empty, 0 corrupt: 100% 313/313 [00:00<?, ?it/s]\n",
      "\u001b[34m\u001b[1mval: \u001b[0mWARNING: /content/gdrive/MyDrive/Datasets/train_val/val/images/zebra/315.jpg: corrupt JPEG restored and saved\n",
      "\u001b[34m\u001b[1mval: \u001b[0mCaching images (0.3GB ram): 100% 313/313 [02:13<00:00,  2.34it/s]\n",
      "Plotting labels to runs/train/exp/labels.jpg... \n",
      "\n",
      "\u001b[34m\u001b[1mAutoAnchor: \u001b[0m7.12 anchors/target, 1.000 Best Possible Recall (BPR). Current anchors are a good fit to dataset ✅\n",
      "Image sizes 640 train, 640 val\n",
      "Using 2 dataloader workers\n",
      "Logging results to \u001b[1mruns/train/exp\u001b[0m\n",
      "Starting training for 35 epochs...\n",
      "\n",
      "     Epoch   gpu_mem       box       obj       cls    labels  img_size\n",
      "      0/34     5.56G   0.06553   0.03372   0.03655        11       640: 100% 298/298 [02:04<00:00,  2.39it/s]\n",
      "               Class     Images     Labels          P          R     mAP@.5 mAP@.5:.95: 100% 40/40 [00:09<00:00,  4.32it/s]\n",
      "                 all        313        552      0.384      0.708      0.495      0.196\n",
      "\n",
      "     Epoch   gpu_mem       box       obj       cls    labels  img_size\n",
      "      1/34     6.43G   0.05616   0.02172   0.01794        17       640: 100% 298/298 [01:53<00:00,  2.62it/s]\n",
      "               Class     Images     Labels          P          R     mAP@.5 mAP@.5:.95: 100% 40/40 [00:08<00:00,  4.48it/s]\n",
      "                 all        313        552      0.477      0.694      0.536      0.273\n",
      "\n",
      "     Epoch   gpu_mem       box       obj       cls    labels  img_size\n",
      "      2/34     6.43G    0.0527   0.01794   0.01274         8       640: 100% 298/298 [01:52<00:00,  2.65it/s]\n",
      "               Class     Images     Labels          P          R     mAP@.5 mAP@.5:.95: 100% 40/40 [00:08<00:00,  4.48it/s]\n",
      "                 all        313        552      0.709      0.809      0.784      0.331\n",
      "\n",
      "     Epoch   gpu_mem       box       obj       cls    labels  img_size\n",
      "      3/34     6.43G   0.04383    0.0181   0.01174         8       640: 100% 298/298 [01:52<00:00,  2.65it/s]\n",
      "               Class     Images     Labels          P          R     mAP@.5 mAP@.5:.95: 100% 40/40 [00:08<00:00,  4.48it/s]\n",
      "                 all        313        552      0.821      0.778      0.869      0.491\n",
      "\n",
      "     Epoch   gpu_mem       box       obj       cls    labels  img_size\n",
      "      4/34     6.43G   0.03616   0.01893   0.01018        12       640: 100% 298/298 [01:52<00:00,  2.65it/s]\n",
      "               Class     Images     Labels          P          R     mAP@.5 mAP@.5:.95: 100% 40/40 [00:08<00:00,  4.48it/s]\n",
      "                 all        313        552      0.824      0.878      0.889      0.547\n",
      "\n",
      "     Epoch   gpu_mem       box       obj       cls    labels  img_size\n",
      "      5/34     6.43G   0.03323   0.01838   0.00903        14       640: 100% 298/298 [01:52<00:00,  2.65it/s]\n",
      "               Class     Images     Labels          P          R     mAP@.5 mAP@.5:.95: 100% 40/40 [00:08<00:00,  4.50it/s]\n",
      "                 all        313        552      0.842      0.875      0.925      0.587\n",
      "\n",
      "     Epoch   gpu_mem       box       obj       cls    labels  img_size\n",
      "      6/34     6.43G   0.02892   0.01851  0.008899         9       640: 100% 298/298 [01:52<00:00,  2.65it/s]\n",
      "               Class     Images     Labels          P          R     mAP@.5 mAP@.5:.95: 100% 40/40 [00:08<00:00,  4.49it/s]\n",
      "                 all        313        552      0.934      0.888      0.941      0.695\n",
      "\n",
      "     Epoch   gpu_mem       box       obj       cls    labels  img_size\n",
      "      7/34     6.43G   0.02698    0.0183  0.008379        14       640: 100% 298/298 [01:52<00:00,  2.65it/s]\n",
      "               Class     Images     Labels          P          R     mAP@.5 mAP@.5:.95: 100% 40/40 [00:08<00:00,  4.48it/s]\n",
      "                 all        313        552      0.922      0.914      0.953      0.714\n",
      "\n",
      "     Epoch   gpu_mem       box       obj       cls    labels  img_size\n",
      "      8/34     6.43G   0.02568   0.01795  0.007242        13       640: 100% 298/298 [01:52<00:00,  2.65it/s]\n",
      "               Class     Images     Labels          P          R     mAP@.5 mAP@.5:.95: 100% 40/40 [00:08<00:00,  4.48it/s]\n",
      "                 all        313        552      0.916      0.949      0.956       0.71\n",
      "\n",
      "     Epoch   gpu_mem       box       obj       cls    labels  img_size\n",
      "      9/34     6.43G   0.02501   0.01717  0.005845         7       640: 100% 298/298 [01:52<00:00,  2.65it/s]\n",
      "               Class     Images     Labels          P          R     mAP@.5 mAP@.5:.95: 100% 40/40 [00:08<00:00,  4.51it/s]\n",
      "                 all        313        552      0.948      0.924      0.963      0.765\n",
      "\n",
      "     Epoch   gpu_mem       box       obj       cls    labels  img_size\n",
      "     10/34     6.43G   0.02353   0.01687  0.005373        13       640: 100% 298/298 [01:52<00:00,  2.65it/s]\n",
      "               Class     Images     Labels          P          R     mAP@.5 mAP@.5:.95: 100% 40/40 [00:08<00:00,  4.49it/s]\n",
      "                 all        313        552      0.945       0.93       0.96      0.769\n",
      "\n",
      "     Epoch   gpu_mem       box       obj       cls    labels  img_size\n",
      "     11/34     6.43G   0.02225    0.0159  0.005074        11       640: 100% 298/298 [01:52<00:00,  2.65it/s]\n",
      "               Class     Images     Labels          P          R     mAP@.5 mAP@.5:.95: 100% 40/40 [00:08<00:00,  4.49it/s]\n",
      "                 all        313        552      0.945      0.939      0.963      0.788\n",
      "\n",
      "     Epoch   gpu_mem       box       obj       cls    labels  img_size\n",
      "     12/34     6.43G   0.02185   0.01604  0.005146        14       640: 100% 298/298 [01:52<00:00,  2.65it/s]\n",
      "               Class     Images     Labels          P          R     mAP@.5 mAP@.5:.95: 100% 40/40 [00:08<00:00,  4.51it/s]\n",
      "                 all        313        552      0.965       0.92      0.963      0.746\n",
      "\n",
      "     Epoch   gpu_mem       box       obj       cls    labels  img_size\n",
      "     13/34     6.43G   0.02076    0.0154  0.005183         8       640: 100% 298/298 [01:52<00:00,  2.66it/s]\n",
      "               Class     Images     Labels          P          R     mAP@.5 mAP@.5:.95: 100% 40/40 [00:08<00:00,  4.52it/s]\n",
      "                 all        313        552       0.93      0.954      0.966      0.784\n",
      "\n",
      "     Epoch   gpu_mem       box       obj       cls    labels  img_size\n",
      "     14/34     6.43G   0.02049   0.01561  0.005092        13       640: 100% 298/298 [01:52<00:00,  2.65it/s]\n",
      "               Class     Images     Labels          P          R     mAP@.5 mAP@.5:.95: 100% 40/40 [00:08<00:00,  4.52it/s]\n",
      "                 all        313        552      0.936      0.954      0.967      0.783\n",
      "\n",
      "     Epoch   gpu_mem       box       obj       cls    labels  img_size\n",
      "     15/34     6.43G   0.02004   0.01506  0.004208        13       640: 100% 298/298 [01:52<00:00,  2.66it/s]\n",
      "               Class     Images     Labels          P          R     mAP@.5 mAP@.5:.95: 100% 40/40 [00:08<00:00,  4.49it/s]\n",
      "                 all        313        552      0.924      0.926      0.961      0.777\n",
      "\n",
      "     Epoch   gpu_mem       box       obj       cls    labels  img_size\n",
      "     16/34     6.43G   0.01967   0.01488  0.004032        18       640: 100% 298/298 [01:52<00:00,  2.65it/s]\n",
      "               Class     Images     Labels          P          R     mAP@.5 mAP@.5:.95: 100% 40/40 [00:08<00:00,  4.51it/s]\n",
      "                 all        313        552      0.938      0.945      0.972      0.795\n",
      "\n",
      "     Epoch   gpu_mem       box       obj       cls    labels  img_size\n",
      "     17/34     6.43G   0.01851   0.01461  0.003608        13       640: 100% 298/298 [01:52<00:00,  2.65it/s]\n",
      "               Class     Images     Labels          P          R     mAP@.5 mAP@.5:.95: 100% 40/40 [00:08<00:00,  4.50it/s]\n",
      "                 all        313        552       0.93      0.955      0.962      0.783\n",
      "\n",
      "     Epoch   gpu_mem       box       obj       cls    labels  img_size\n",
      "     18/34     6.43G   0.01785   0.01419  0.003245        12       640: 100% 298/298 [01:52<00:00,  2.66it/s]\n",
      "               Class     Images     Labels          P          R     mAP@.5 mAP@.5:.95: 100% 40/40 [00:08<00:00,  4.51it/s]\n",
      "                 all        313        552      0.939      0.933      0.963      0.769\n",
      "\n",
      "     Epoch   gpu_mem       box       obj       cls    labels  img_size\n",
      "     19/34     6.43G   0.01702   0.01353  0.003384         8       640: 100% 298/298 [01:52<00:00,  2.66it/s]\n",
      "               Class     Images     Labels          P          R     mAP@.5 mAP@.5:.95: 100% 40/40 [00:08<00:00,  4.52it/s]\n",
      "                 all        313        552      0.938      0.931       0.97      0.823\n",
      "\n",
      "     Epoch   gpu_mem       box       obj       cls    labels  img_size\n",
      "     20/34     6.43G   0.01656   0.01367  0.003716        13       640: 100% 298/298 [01:52<00:00,  2.65it/s]\n",
      "               Class     Images     Labels          P          R     mAP@.5 mAP@.5:.95: 100% 40/40 [00:08<00:00,  4.49it/s]\n",
      "                 all        313        552      0.923      0.928      0.965      0.809\n",
      "\n",
      "     Epoch   gpu_mem       box       obj       cls    labels  img_size\n",
      "     21/34     6.43G   0.01607    0.0135  0.003052         6       640: 100% 298/298 [01:52<00:00,  2.65it/s]\n",
      "               Class     Images     Labels          P          R     mAP@.5 mAP@.5:.95: 100% 40/40 [00:08<00:00,  4.50it/s]\n",
      "                 all        313        552      0.932      0.941      0.968      0.792\n",
      "\n",
      "     Epoch   gpu_mem       box       obj       cls    labels  img_size\n",
      "     22/34     6.43G   0.01535   0.01337  0.002894         5       640: 100% 298/298 [01:52<00:00,  2.66it/s]\n",
      "               Class     Images     Labels          P          R     mAP@.5 mAP@.5:.95: 100% 40/40 [00:08<00:00,  4.51it/s]\n",
      "                 all        313        552       0.94      0.959      0.967      0.809\n",
      "\n",
      "     Epoch   gpu_mem       box       obj       cls    labels  img_size\n",
      "     23/34     6.43G   0.01522   0.01314  0.002804        11       640: 100% 298/298 [01:52<00:00,  2.65it/s]\n",
      "               Class     Images     Labels          P          R     mAP@.5 mAP@.5:.95: 100% 40/40 [00:08<00:00,  4.50it/s]\n",
      "                 all        313        552      0.964      0.945      0.972      0.823\n",
      "\n",
      "     Epoch   gpu_mem       box       obj       cls    labels  img_size\n",
      "     24/34     6.43G   0.01457   0.01319   0.00285        13       640: 100% 298/298 [01:52<00:00,  2.64it/s]\n",
      "               Class     Images     Labels          P          R     mAP@.5 mAP@.5:.95: 100% 40/40 [00:08<00:00,  4.49it/s]\n",
      "                 all        313        552      0.943      0.963      0.967      0.818\n",
      "\n",
      "     Epoch   gpu_mem       box       obj       cls    labels  img_size\n",
      "     25/34     6.43G   0.01405   0.01291  0.002306         9       640: 100% 298/298 [01:52<00:00,  2.65it/s]\n",
      "               Class     Images     Labels          P          R     mAP@.5 mAP@.5:.95: 100% 40/40 [00:08<00:00,  4.52it/s]\n",
      "                 all        313        552      0.956      0.956      0.965      0.832\n",
      "\n",
      "     Epoch   gpu_mem       box       obj       cls    labels  img_size\n",
      "     26/34     6.43G   0.01386   0.01232  0.002388        12       640: 100% 298/298 [01:52<00:00,  2.65it/s]\n",
      "               Class     Images     Labels          P          R     mAP@.5 mAP@.5:.95: 100% 40/40 [00:08<00:00,  4.50it/s]\n",
      "                 all        313        552      0.952      0.963      0.969      0.838\n",
      "\n",
      "     Epoch   gpu_mem       box       obj       cls    labels  img_size\n",
      "     27/34     6.43G   0.01304    0.0121  0.001992        13       640: 100% 298/298 [01:52<00:00,  2.65it/s]\n",
      "               Class     Images     Labels          P          R     mAP@.5 mAP@.5:.95: 100% 40/40 [00:08<00:00,  4.51it/s]\n",
      "                 all        313        552       0.95      0.962      0.972      0.842\n",
      "\n",
      "     Epoch   gpu_mem       box       obj       cls    labels  img_size\n",
      "     28/34     6.43G    0.0126   0.01194  0.002293        23       640: 100% 298/298 [01:52<00:00,  2.66it/s]\n",
      "               Class     Images     Labels          P          R     mAP@.5 mAP@.5:.95: 100% 40/40 [00:08<00:00,  4.50it/s]\n",
      "                 all        313        552      0.951       0.96      0.967      0.837\n",
      "\n",
      "     Epoch   gpu_mem       box       obj       cls    labels  img_size\n",
      "     29/34     6.43G   0.01235   0.01212  0.002019        10       640: 100% 298/298 [01:52<00:00,  2.65it/s]\n",
      "               Class     Images     Labels          P          R     mAP@.5 mAP@.5:.95: 100% 40/40 [00:08<00:00,  4.51it/s]\n",
      "                 all        313        552       0.95      0.959      0.971      0.845\n",
      "\n",
      "     Epoch   gpu_mem       box       obj       cls    labels  img_size\n",
      "     30/34     6.43G   0.01167   0.01157   0.00204        21       640: 100% 298/298 [01:52<00:00,  2.65it/s]\n",
      "               Class     Images     Labels          P          R     mAP@.5 mAP@.5:.95: 100% 40/40 [00:08<00:00,  4.50it/s]\n",
      "                 all        313        552      0.949      0.961      0.968      0.847\n",
      "\n",
      "     Epoch   gpu_mem       box       obj       cls    labels  img_size\n",
      "     31/34     6.43G   0.01142   0.01119  0.001631         7       640: 100% 298/298 [01:52<00:00,  2.65it/s]\n",
      "               Class     Images     Labels          P          R     mAP@.5 mAP@.5:.95: 100% 40/40 [00:08<00:00,  4.47it/s]\n",
      "                 all        313        552      0.946      0.957      0.965      0.842\n",
      "\n",
      "     Epoch   gpu_mem       box       obj       cls    labels  img_size\n",
      "     32/34     6.43G   0.01082   0.01122  0.001397        18       640: 100% 298/298 [01:52<00:00,  2.66it/s]\n",
      "               Class     Images     Labels          P          R     mAP@.5 mAP@.5:.95: 100% 40/40 [00:08<00:00,  4.51it/s]\n",
      "                 all        313        552       0.95       0.96      0.968      0.844\n",
      "\n",
      "     Epoch   gpu_mem       box       obj       cls    labels  img_size\n",
      "     33/34     6.43G    0.0107   0.01108  0.001413         6       640: 100% 298/298 [01:52<00:00,  2.65it/s]\n",
      "               Class     Images     Labels          P          R     mAP@.5 mAP@.5:.95: 100% 40/40 [00:08<00:00,  4.51it/s]\n",
      "                 all        313        552      0.944      0.964      0.968      0.847\n",
      "\n",
      "     Epoch   gpu_mem       box       obj       cls    labels  img_size\n",
      "     34/34     6.43G   0.01055    0.0114  0.001546        21       640: 100% 298/298 [01:52<00:00,  2.65it/s]\n",
      "               Class     Images     Labels          P          R     mAP@.5 mAP@.5:.95: 100% 40/40 [00:08<00:00,  4.52it/s]\n",
      "                 all        313        552      0.945      0.963      0.967      0.844\n",
      "\n",
      "35 epochs completed in 1.253 hours.\n",
      "Optimizer stripped from runs/train/exp/weights/last.pt, 281.0MB\n",
      "Optimizer stripped from runs/train/exp/weights/best.pt, 281.0MB\n",
      "\n",
      "Validating runs/train/exp/weights/best.pt...\n",
      "Fusing layers... \n",
      "Model summary: 574 layers, 139999708 parameters, 0 gradients, 208.2 GFLOPs\n",
      "               Class     Images     Labels          P          R     mAP@.5 mAP@.5:.95: 100% 40/40 [00:09<00:00,  4.18it/s]\n",
      "                 all        313        552      0.944      0.964      0.968      0.848\n",
      "             buffalo        313        145      0.986      0.938      0.973      0.863\n",
      "            elephant        313        135      0.922      0.993       0.99       0.85\n",
      "               rhino        313        113      0.948      0.978      0.961      0.873\n",
      "               zebra        313        159       0.92       0.95      0.948      0.804\n",
      "Results saved to \u001b[1mruns/train/exp\u001b[0m\n"
     ]
    }
   ],
   "source": [
    "!python train.py --img 640 --batch 4 --epochs 35 --data african_wildlife.yaml --weights yolov5x6.pt --workers 2  --cache"
   ]
  },
  {
   "cell_type": "markdown",
   "metadata": {},
   "source": [
    "bravo we have got a good classification score @.50 percent map "
   ]
  },
  {
   "cell_type": "code",
   "execution_count": null,
   "metadata": {
    "id": "f2-jRa9lGRYA"
   },
   "outputs": [],
   "source": []
  },
  {
   "cell_type": "code",
   "execution_count": null,
   "metadata": {
    "id": "m0v0avPhGRVg"
   },
   "outputs": [],
   "source": []
  },
  {
   "cell_type": "code",
   "execution_count": null,
   "metadata": {
    "id": "jzukuxi9GRTB"
   },
   "outputs": [],
   "source": []
  }
 ],
 "metadata": {
  "accelerator": "GPU",
  "colab": {
   "collapsed_sections": [],
   "name": "african_wildlife_yolov5.ipynb",
   "provenance": []
  },
  "kernelspec": {
   "display_name": "Python 3 (ipykernel)",
   "language": "python",
   "name": "python3"
  },
  "language_info": {
   "codemirror_mode": {
    "name": "ipython",
    "version": 3
   },
   "file_extension": ".py",
   "mimetype": "text/x-python",
   "name": "python",
   "nbconvert_exporter": "python",
   "pygments_lexer": "ipython3",
   "version": "3.9.7"
  }
 },
 "nbformat": 4,
 "nbformat_minor": 1
}
