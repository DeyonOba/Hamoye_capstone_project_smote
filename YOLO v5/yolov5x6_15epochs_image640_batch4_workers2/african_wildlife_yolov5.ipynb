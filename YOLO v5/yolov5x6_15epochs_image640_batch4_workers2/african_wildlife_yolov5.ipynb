{
  "nbformat": 4,
  "nbformat_minor": 0,
  "metadata": {
    "colab": {
      "name": "african_wildlife_yolov5.ipynb",
      "provenance": [],
      "collapsed_sections": []
    },
    "kernelspec": {
      "name": "python3",
      "display_name": "Python 3"
    },
    "language_info": {
      "name": "python"
    },
    "accelerator": "GPU"
  },
  "cells": [
    {
      "cell_type": "code",
      "source": [
        "!nvidia-smi"
      ],
      "metadata": {
        "colab": {
          "base_uri": "https://localhost:8080/"
        },
        "id": "bvAGRXuNJDkJ",
        "outputId": "2f738118-606f-4e96-bdd2-20c2c39bcce8"
      },
      "execution_count": 1,
      "outputs": [
        {
          "output_type": "stream",
          "name": "stdout",
          "text": [
            "Sat Apr  2 11:25:32 2022       \n",
            "+-----------------------------------------------------------------------------+\n",
            "| NVIDIA-SMI 460.32.03    Driver Version: 460.32.03    CUDA Version: 11.2     |\n",
            "|-------------------------------+----------------------+----------------------+\n",
            "| GPU  Name        Persistence-M| Bus-Id        Disp.A | Volatile Uncorr. ECC |\n",
            "| Fan  Temp  Perf  Pwr:Usage/Cap|         Memory-Usage | GPU-Util  Compute M. |\n",
            "|                               |                      |               MIG M. |\n",
            "|===============================+======================+======================|\n",
            "|   0  Tesla K80           Off  | 00000000:00:04.0 Off |                    0 |\n",
            "| N/A   32C    P8    28W / 149W |      0MiB / 11441MiB |      0%      Default |\n",
            "|                               |                      |                  N/A |\n",
            "+-------------------------------+----------------------+----------------------+\n",
            "                                                                               \n",
            "+-----------------------------------------------------------------------------+\n",
            "| Processes:                                                                  |\n",
            "|  GPU   GI   CI        PID   Type   Process name                  GPU Memory |\n",
            "|        ID   ID                                                   Usage      |\n",
            "|=============================================================================|\n",
            "|  No running processes found                                                 |\n",
            "+-----------------------------------------------------------------------------+\n"
          ]
        }
      ]
    },
    {
      "cell_type": "code",
      "execution_count": 2,
      "metadata": {
        "id": "ZSujXeeqFf9q",
        "colab": {
          "base_uri": "https://localhost:8080/",
          "height": 52
        },
        "outputId": "6a0994b4-1028-418c-ead6-7edec353f53f"
      },
      "outputs": [
        {
          "output_type": "stream",
          "name": "stdout",
          "text": [
            "Mounted at /content/gdrive\n"
          ]
        },
        {
          "output_type": "display_data",
          "data": {
            "application/javascript": [
              "IPython.notebook.set_autosave_interval(1000)"
            ]
          },
          "metadata": {}
        },
        {
          "output_type": "stream",
          "name": "stdout",
          "text": [
            "Autosaving every 1 seconds\n"
          ]
        }
      ],
      "source": [
        "from google.colab import drive\n",
        "drive.mount('/content/gdrive',force_remount = True)\n",
        "\n",
        "import sys\n",
        "sys.path.append('/content/gdrive/My Drive/Colab Notebooks')\n",
        "\n",
        "%autosave 1 "
      ]
    },
    {
      "cell_type": "code",
      "source": [
        "#clone YOLOv5 and \n",
        "!git clone https://github.com/ultralytics/yolov5  # clone repo\n",
        "%cd yolov5\n",
        "%pip install -qr requirements.txt # install dependencies\n",
        "\n",
        "import torch\n",
        "import os\n",
        "from IPython.display import Image, clear_output  # to display images\n",
        "\n",
        "print(f\"Setup complete. Using torch {torch.__version__} ({torch.cuda.get_device_properties(0).name if torch.cuda.is_available() else 'CPU'})\")"
      ],
      "metadata": {
        "id": "JTR0ZjLHF0Nw",
        "colab": {
          "base_uri": "https://localhost:8080/"
        },
        "outputId": "089a9fe6-71a6-46ee-d71f-bb932c9c1e12"
      },
      "execution_count": 3,
      "outputs": [
        {
          "output_type": "stream",
          "name": "stdout",
          "text": [
            "Cloning into 'yolov5'...\n",
            "remote: Enumerating objects: 12394, done.\u001b[K\n",
            "remote: Total 12394 (delta 0), reused 0 (delta 0), pack-reused 12394\u001b[K\n",
            "Receiving objects: 100% (12394/12394), 11.51 MiB | 8.98 MiB/s, done.\n",
            "Resolving deltas: 100% (8629/8629), done.\n",
            "/content/yolov5\n",
            "\u001b[K     |████████████████████████████████| 596 kB 4.1 MB/s \n",
            "\u001b[?25hSetup complete. Using torch 1.10.0+cu111 (Tesla K80)\n"
          ]
        }
      ]
    },
    {
      "cell_type": "code",
      "source": [
        "import multiprocessing\n",
        "multiprocessing.cpu_count()"
      ],
      "metadata": {
        "colab": {
          "base_uri": "https://localhost:8080/"
        },
        "id": "nISZAR3Kataz",
        "outputId": "c4ad1923-a3d0-4927-ccbc-b075f4642956"
      },
      "execution_count": 4,
      "outputs": [
        {
          "output_type": "execute_result",
          "data": {
            "text/plain": [
              "2"
            ]
          },
          "metadata": {},
          "execution_count": 4
        }
      ]
    },
    {
      "cell_type": "code",
      "source": [
        "!python train.py --img 640 --batch 4 --epochs 15 --data african_wildlife.yaml --weights yolov5x6.pt --workers 2  --cache"
      ],
      "metadata": {
        "colab": {
          "base_uri": "https://localhost:8080/"
        },
        "id": "NEzgCE2jGRhY",
        "outputId": "696f9453-1b6c-429e-e712-8e6dfc4c06de"
      },
      "execution_count": 6,
      "outputs": [
        {
          "output_type": "stream",
          "name": "stdout",
          "text": [
            "\u001b[34m\u001b[1mtrain: \u001b[0mweights=yolov5x6.pt, cfg=, data=african_wildlife.yaml, hyp=data/hyps/hyp.scratch-low.yaml, epochs=15, batch_size=4, imgsz=640, rect=False, resume=False, nosave=False, noval=False, noautoanchor=False, evolve=None, bucket=, cache=ram, image_weights=False, device=, multi_scale=False, single_cls=False, optimizer=SGD, sync_bn=False, workers=2, project=runs/train, name=exp, exist_ok=False, quad=False, cos_lr=False, label_smoothing=0.0, patience=100, freeze=[0], save_period=-1, local_rank=-1, entity=None, upload_dataset=False, bbox_interval=-1, artifact_alias=latest\n",
            "\u001b[34m\u001b[1mgithub: \u001b[0mup to date with https://github.com/ultralytics/yolov5 ✅\n",
            "YOLOv5 🚀 v6.1-83-g37675e1 torch 1.10.0+cu111 CUDA:0 (Tesla K80, 11441MiB)\n",
            "\n",
            "\u001b[34m\u001b[1mhyperparameters: \u001b[0mlr0=0.01, lrf=0.01, momentum=0.937, weight_decay=0.0005, warmup_epochs=3.0, warmup_momentum=0.8, warmup_bias_lr=0.1, box=0.05, cls=0.5, cls_pw=1.0, obj=1.0, obj_pw=1.0, iou_t=0.2, anchor_t=4.0, fl_gamma=0.0, hsv_h=0.015, hsv_s=0.7, hsv_v=0.4, degrees=0.0, translate=0.1, scale=0.5, shear=0.0, perspective=0.0, flipud=0.0, fliplr=0.5, mosaic=1.0, mixup=0.0, copy_paste=0.0\n",
            "\u001b[34m\u001b[1mWeights & Biases: \u001b[0mrun 'pip install wandb' to automatically track and visualize YOLOv5 🚀 runs (RECOMMENDED)\n",
            "\u001b[34m\u001b[1mTensorBoard: \u001b[0mStart with 'tensorboard --logdir runs/train', view at http://localhost:6006/\n",
            "Downloading https://github.com/ultralytics/yolov5/releases/download/v6.1/yolov5x6.pt to yolov5x6.pt...\n",
            "100% 270M/270M [00:17<00:00, 16.1MB/s]\n",
            "\n",
            "Overriding model.yaml nc=80 with nc=4\n",
            "\n",
            "                 from  n    params  module                                  arguments                     \n",
            "  0                -1  1      8800  models.common.Conv                      [3, 80, 6, 2, 2]              \n",
            "  1                -1  1    115520  models.common.Conv                      [80, 160, 3, 2]               \n",
            "  2                -1  4    309120  models.common.C3                        [160, 160, 4]                 \n",
            "  3                -1  1    461440  models.common.Conv                      [160, 320, 3, 2]              \n",
            "  4                -1  8   2259200  models.common.C3                        [320, 320, 8]                 \n",
            "  5                -1  1   1844480  models.common.Conv                      [320, 640, 3, 2]              \n",
            "  6                -1 12  13125120  models.common.C3                        [640, 640, 12]                \n",
            "  7                -1  1   5531520  models.common.Conv                      [640, 960, 3, 2]              \n",
            "  8                -1  4  11070720  models.common.C3                        [960, 960, 4]                 \n",
            "  9                -1  1  11061760  models.common.Conv                      [960, 1280, 3, 2]             \n",
            " 10                -1  4  19676160  models.common.C3                        [1280, 1280, 4]               \n",
            " 11                -1  1   4099840  models.common.SPPF                      [1280, 1280, 5]               \n",
            " 12                -1  1   1230720  models.common.Conv                      [1280, 960, 1, 1]             \n",
            " 13                -1  1         0  torch.nn.modules.upsampling.Upsample    [None, 2, 'nearest']          \n",
            " 14           [-1, 8]  1         0  models.common.Concat                    [1]                           \n",
            " 15                -1  4  11992320  models.common.C3                        [1920, 960, 4, False]         \n",
            " 16                -1  1    615680  models.common.Conv                      [960, 640, 1, 1]              \n",
            " 17                -1  1         0  torch.nn.modules.upsampling.Upsample    [None, 2, 'nearest']          \n",
            " 18           [-1, 6]  1         0  models.common.Concat                    [1]                           \n",
            " 19                -1  4   5332480  models.common.C3                        [1280, 640, 4, False]         \n",
            " 20                -1  1    205440  models.common.Conv                      [640, 320, 1, 1]              \n",
            " 21                -1  1         0  torch.nn.modules.upsampling.Upsample    [None, 2, 'nearest']          \n",
            " 22           [-1, 4]  1         0  models.common.Concat                    [1]                           \n",
            " 23                -1  4   1335040  models.common.C3                        [640, 320, 4, False]          \n",
            " 24                -1  1    922240  models.common.Conv                      [320, 320, 3, 2]              \n",
            " 25          [-1, 20]  1         0  models.common.Concat                    [1]                           \n",
            " 26                -1  4   4922880  models.common.C3                        [640, 640, 4, False]          \n",
            " 27                -1  1   3687680  models.common.Conv                      [640, 640, 3, 2]              \n",
            " 28          [-1, 16]  1         0  models.common.Concat                    [1]                           \n",
            " 29                -1  4  11377920  models.common.C3                        [1280, 960, 4, False]         \n",
            " 30                -1  1   8296320  models.common.Conv                      [960, 960, 3, 2]              \n",
            " 31          [-1, 12]  1         0  models.common.Concat                    [1]                           \n",
            " 32                -1  4  20495360  models.common.C3                        [1920, 1280, 4, False]        \n",
            " 33  [23, 26, 29, 32]  1     86508  models.yolo.Detect                      [4, [[19, 27, 44, 40, 38, 94], [96, 68, 86, 152, 180, 137], [140, 301, 303, 264, 238, 542], [436, 615, 739, 380, 925, 792]], [320, 640, 960, 1280]]\n",
            "Model summary: 733 layers, 140064268 parameters, 140064268 gradients, 208.4 GFLOPs\n",
            "\n",
            "Transferred 955/963 items from yolov5x6.pt\n",
            "Scaled weight_decay = 0.0005\n",
            "\u001b[34m\u001b[1moptimizer:\u001b[0m SGD with parameter groups 159 weight (no decay), 163 weight, 163 bias\n",
            "\u001b[34m\u001b[1malbumentations: \u001b[0mversion 1.0.3 required by YOLOv5, but version 0.1.12 is currently installed\n",
            "\u001b[34m\u001b[1mtrain: \u001b[0mScanning '/content/gdrive/MyDrive/train_val/train/labels/buffalo.cache' images and labels... 1191 found, 0 missing, 0 empty, 0 corrupt: 100% 1191/1191 [00:00<?, ?it/s]\n",
            "\u001b[34m\u001b[1mtrain: \u001b[0mCaching images (1.0GB ram): 100% 1191/1191 [15:36<00:00,  1.27it/s]\n",
            "\u001b[34m\u001b[1mval: \u001b[0mScanning '/content/gdrive/MyDrive/train_val/val/labels/buffalo.cache' images and labels... 313 found, 0 missing, 0 empty, 0 corrupt: 100% 313/313 [00:00<?, ?it/s]\n",
            "\u001b[34m\u001b[1mval: \u001b[0mWARNING: /content/gdrive/MyDrive/train_val/val/images/zebra/315.jpg: corrupt JPEG restored and saved\n",
            "\u001b[34m\u001b[1mval: \u001b[0mCaching images (0.3GB ram): 100% 313/313 [05:28<00:00,  1.05s/it]\n",
            "Plotting labels to runs/train/exp/labels.jpg... \n",
            "\n",
            "\u001b[34m\u001b[1mAutoAnchor: \u001b[0m7.12 anchors/target, 1.000 Best Possible Recall (BPR). Current anchors are a good fit to dataset ✅\n",
            "Image sizes 640 train, 640 val\n",
            "Using 2 dataloader workers\n",
            "Logging results to \u001b[1mruns/train/exp\u001b[0m\n",
            "Starting training for 15 epochs...\n",
            "\n",
            "     Epoch   gpu_mem       box       obj       cls    labels  img_size\n",
            "      0/14      5.7G   0.06533   0.03372   0.03653        11       640: 100% 298/298 [14:59<00:00,  3.02s/it]\n",
            "               Class     Images     Labels          P          R     mAP@.5 mAP@.5:.95: 100% 40/40 [00:51<00:00,  1.29s/it]\n",
            "                 all        313        552      0.437      0.733      0.604      0.322\n",
            "\n",
            "     Epoch   gpu_mem       box       obj       cls    labels  img_size\n",
            "      1/14     7.04G   0.05506   0.02178   0.01785        17       640: 100% 298/298 [14:47<00:00,  2.98s/it]\n",
            "               Class     Images     Labels          P          R     mAP@.5 mAP@.5:.95: 100% 40/40 [00:51<00:00,  1.28s/it]\n",
            "                 all        313        552      0.474       0.79      0.605      0.293\n",
            "\n",
            "     Epoch   gpu_mem       box       obj       cls    labels  img_size\n",
            "      2/14     7.04G   0.05244   0.01815   0.01257         8       640: 100% 298/298 [14:43<00:00,  2.97s/it]\n",
            "               Class     Images     Labels          P          R     mAP@.5 mAP@.5:.95: 100% 40/40 [00:51<00:00,  1.28s/it]\n",
            "                 all        313        552      0.618      0.763      0.721      0.266\n",
            "\n",
            "     Epoch   gpu_mem       box       obj       cls    labels  img_size\n",
            "      3/14     7.04G   0.04288   0.01786    0.0115         8       640: 100% 298/298 [14:43<00:00,  2.97s/it]\n",
            "               Class     Images     Labels          P          R     mAP@.5 mAP@.5:.95: 100% 40/40 [00:50<00:00,  1.27s/it]\n",
            "                 all        313        552      0.749      0.849      0.858      0.533\n",
            "\n",
            "     Epoch   gpu_mem       box       obj       cls    labels  img_size\n",
            "      4/14     7.04G    0.0357   0.01874   0.01016        12       640: 100% 298/298 [14:43<00:00,  2.96s/it]\n",
            "               Class     Images     Labels          P          R     mAP@.5 mAP@.5:.95: 100% 40/40 [00:51<00:00,  1.28s/it]\n",
            "                 all        313        552      0.898      0.883      0.928      0.607\n",
            "\n",
            "     Epoch   gpu_mem       box       obj       cls    labels  img_size\n",
            "      5/14     7.04G   0.03001   0.01773  0.008333        14       640: 100% 298/298 [14:43<00:00,  2.97s/it]\n",
            "               Class     Images     Labels          P          R     mAP@.5 mAP@.5:.95: 100% 40/40 [00:50<00:00,  1.27s/it]\n",
            "                 all        313        552      0.931      0.916      0.955      0.691\n",
            "\n",
            "     Epoch   gpu_mem       box       obj       cls    labels  img_size\n",
            "      6/14     7.04G   0.02683   0.01745  0.007945         9       640: 100% 298/298 [14:43<00:00,  2.96s/it]\n",
            "               Class     Images     Labels          P          R     mAP@.5 mAP@.5:.95: 100% 40/40 [00:50<00:00,  1.27s/it]\n",
            "                 all        313        552      0.917      0.918      0.942      0.675\n",
            "\n",
            "     Epoch   gpu_mem       box       obj       cls    labels  img_size\n",
            "      7/14     7.04G   0.02458   0.01706  0.006528        14       640: 100% 298/298 [14:43<00:00,  2.96s/it]\n",
            "               Class     Images     Labels          P          R     mAP@.5 mAP@.5:.95: 100% 40/40 [00:50<00:00,  1.27s/it]\n",
            "                 all        313        552      0.936      0.929      0.964      0.719\n",
            "\n",
            "     Epoch   gpu_mem       box       obj       cls    labels  img_size\n",
            "      8/14     7.04G   0.02447   0.01671  0.005646        13       640: 100% 298/298 [14:43<00:00,  2.97s/it]\n",
            "               Class     Images     Labels          P          R     mAP@.5 mAP@.5:.95: 100% 40/40 [00:50<00:00,  1.27s/it]\n",
            "                 all        313        552      0.946      0.924      0.963       0.77\n",
            "\n",
            "     Epoch   gpu_mem       box       obj       cls    labels  img_size\n",
            "      9/14     7.04G   0.02101   0.01578  0.004637         7       640: 100% 298/298 [14:45<00:00,  2.97s/it]\n",
            "               Class     Images     Labels          P          R     mAP@.5 mAP@.5:.95: 100% 40/40 [00:51<00:00,  1.28s/it]\n",
            "                 all        313        552      0.939      0.949      0.967      0.749\n",
            "\n",
            "     Epoch   gpu_mem       box       obj       cls    labels  img_size\n",
            "     10/14     7.04G    0.0193   0.01533  0.004385        13       640: 100% 298/298 [14:45<00:00,  2.97s/it]\n",
            "               Class     Images     Labels          P          R     mAP@.5 mAP@.5:.95: 100% 40/40 [00:51<00:00,  1.28s/it]\n",
            "                 all        313        552      0.961      0.939      0.967      0.801\n",
            "\n",
            "     Epoch   gpu_mem       box       obj       cls    labels  img_size\n",
            "     11/14     7.04G   0.01778   0.01419  0.003666        11       640: 100% 298/298 [14:45<00:00,  2.97s/it]\n",
            "               Class     Images     Labels          P          R     mAP@.5 mAP@.5:.95: 100% 40/40 [00:50<00:00,  1.27s/it]\n",
            "                 all        313        552      0.943      0.946      0.965      0.809\n",
            "\n",
            "     Epoch   gpu_mem       box       obj       cls    labels  img_size\n",
            "     12/14     7.04G   0.01649   0.01421  0.003259        14       640: 100% 298/298 [14:45<00:00,  2.97s/it]\n",
            "               Class     Images     Labels          P          R     mAP@.5 mAP@.5:.95: 100% 40/40 [00:51<00:00,  1.28s/it]\n",
            "                 all        313        552       0.95      0.951      0.968      0.803\n",
            "\n",
            "     Epoch   gpu_mem       box       obj       cls    labels  img_size\n",
            "     13/14     7.04G   0.01467   0.01332  0.003567         8       640: 100% 298/298 [14:46<00:00,  2.97s/it]\n",
            "               Class     Images     Labels          P          R     mAP@.5 mAP@.5:.95: 100% 40/40 [00:51<00:00,  1.28s/it]\n",
            "                 all        313        552      0.969      0.927      0.967      0.809\n",
            "\n",
            "     Epoch   gpu_mem       box       obj       cls    labels  img_size\n",
            "     14/14     7.04G   0.01372   0.01346  0.003292        13       640: 100% 298/298 [14:44<00:00,  2.97s/it]\n",
            "               Class     Images     Labels          P          R     mAP@.5 mAP@.5:.95: 100% 40/40 [00:51<00:00,  1.28s/it]\n",
            "                 all        313        552      0.936       0.96      0.969      0.827\n",
            "\n",
            "15 epochs completed in 3.936 hours.\n",
            "Optimizer stripped from runs/train/exp/weights/last.pt, 281.0MB\n",
            "Optimizer stripped from runs/train/exp/weights/best.pt, 281.0MB\n",
            "\n",
            "Validating runs/train/exp/weights/best.pt...\n",
            "Fusing layers... \n",
            "Model summary: 574 layers, 139999708 parameters, 0 gradients, 208.2 GFLOPs\n",
            "               Class     Images     Labels          P          R     mAP@.5 mAP@.5:.95: 100% 40/40 [00:53<00:00,  1.33s/it]\n",
            "                 all        313        552      0.936       0.96      0.969      0.827\n",
            "             buffalo        313        145      0.978      0.917      0.961      0.823\n",
            "            elephant        313        135      0.914      0.985       0.99      0.844\n",
            "               rhino        313        113      0.951      0.973      0.967      0.848\n",
            "               zebra        313        159      0.903      0.962      0.955      0.796\n",
            "Results saved to \u001b[1mruns/train/exp\u001b[0m\n"
          ]
        }
      ]
    },
    {
      "cell_type": "code",
      "source": [
        ""
      ],
      "metadata": {
        "id": "MM-kEZYIGRfI"
      },
      "execution_count": 5,
      "outputs": []
    },
    {
      "cell_type": "code",
      "source": [
        ""
      ],
      "metadata": {
        "id": "2lZnbq3uGRcx"
      },
      "execution_count": 5,
      "outputs": []
    },
    {
      "cell_type": "code",
      "source": [
        ""
      ],
      "metadata": {
        "id": "8JoJEoN5GRaY"
      },
      "execution_count": 5,
      "outputs": []
    },
    {
      "cell_type": "code",
      "source": [
        ""
      ],
      "metadata": {
        "id": "f2-jRa9lGRYA"
      },
      "execution_count": 5,
      "outputs": []
    },
    {
      "cell_type": "code",
      "source": [
        ""
      ],
      "metadata": {
        "id": "m0v0avPhGRVg"
      },
      "execution_count": 5,
      "outputs": []
    },
    {
      "cell_type": "code",
      "source": [
        ""
      ],
      "metadata": {
        "id": "jzukuxi9GRTB"
      },
      "execution_count": 5,
      "outputs": []
    }
  ]
}